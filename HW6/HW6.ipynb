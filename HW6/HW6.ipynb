{
 "cells": [
  {
   "cell_type": "markdown",
   "metadata": {},
   "source": [
    "# Question 1"
   ]
  },
  {
   "cell_type": "code",
   "execution_count": 74,
   "metadata": {},
   "outputs": [],
   "source": [
    "import gurobipy as gp\n",
    "from gurobipy import GRB"
   ]
  },
  {
   "cell_type": "code",
   "execution_count": 75,
   "metadata": {},
   "outputs": [],
   "source": [
    "TruckCar, cost = gp.multidict(\n",
    "{\n",
    "    (1, 1): 276,\n",
    "    (1, 2): 497,\n",
    "    (1, 3): 251,\n",
    "    (1, 4): 364,\n",
    "    (2, 1): 179,\n",
    "    (2, 2): 375,\n",
    "    (2, 3): 298,\n",
    "    (2, 4): 190,\n",
    "    (3, 1): 150,\n",
    "    (3, 2): 475,\n",
    "    (3, 3): 344,\n",
    "    (3, 4): 492,\n",
    "    (4, 1): 97,\n",
    "    (4, 2): 163,\n",
    "    (4, 3): 285,\n",
    "    (4, 4): 185,\n",
    "    (5, 1): 305,\n",
    "    (5, 2): 150,\n",
    "    (5, 3): 225,\n",
    "    (5, 4): 165\n",
    "})\n",
    "\n",
    "capacity = {\n",
    "    1: 2,  \n",
    "    2: 1,  \n",
    "    3: 1,  \n",
    "    4: 1,  \n",
    "    5: 2   \n",
    "}"
   ]
  },
  {
   "cell_type": "code",
   "execution_count": 76,
   "metadata": {},
   "outputs": [],
   "source": [
    "mTruckCar = gp.Model('TruckCar')"
   ]
  },
  {
   "cell_type": "code",
   "execution_count": 77,
   "metadata": {},
   "outputs": [],
   "source": [
    "assign = mTruckCar.addVars(TruckCar,vtype='B', obj=cost, name='TruckCar') \n"
   ]
  },
  {
   "cell_type": "code",
   "execution_count": 78,
   "metadata": {},
   "outputs": [],
   "source": [
    "for i in range(1, 6):\n",
    "    mTruckCar.addConstr(\n",
    "        sum(assign[i, j] for i,j in TruckCar.select(i, '*')) <= capacity[i],\n",
    "        name=\"truck_capacity\"\n",
    ")\n",
    "    \n",
    "for j in range(1, 5):\n",
    "    mTruckCar.addConstr(\n",
    "        sum(assign[i, j] for i,j in TruckCar.select('*', j)) == 1,\n",
    "        name=\"car_demand\"\n",
    ")"
   ]
  },
  {
   "cell_type": "code",
   "execution_count": 79,
   "metadata": {},
   "outputs": [
    {
     "name": "stdout",
     "output_type": "stream",
     "text": [
      "Warning: linear constraint 0 and linear constraint 1 have the same name \"truck_capacity\"\n"
     ]
    }
   ],
   "source": [
    "# Verify model formulation\n",
    "\n",
    "mTruckCar.write('TruckCar.lp')"
   ]
  },
  {
   "cell_type": "code",
   "execution_count": 80,
   "metadata": {},
   "outputs": [
    {
     "name": "stdout",
     "output_type": "stream",
     "text": [
      "Gurobi Optimizer version 11.0.1 build v11.0.1rc0 (win64 - Windows 10.0 (19045.2))\n",
      "\n",
      "CPU model: AMD Ryzen 9 5900HS with Radeon Graphics, instruction set [SSE2|AVX|AVX2]\n",
      "Thread count: 8 physical cores, 16 logical processors, using up to 16 threads\n",
      "\n",
      "Optimize a model with 9 rows, 20 columns and 40 nonzeros\n",
      "Model fingerprint: 0xf4a71cbf\n",
      "Variable types: 0 continuous, 20 integer (20 binary)\n",
      "Coefficient statistics:\n",
      "  Matrix range     [1e+00, 1e+00]\n",
      "  Objective range  [1e+02, 5e+02]\n",
      "  Bounds range     [1e+00, 1e+00]\n",
      "  RHS range        [1e+00, 2e+00]\n",
      "Found heuristic solution: objective 1490.0000000\n",
      "Presolve time: 0.00s\n",
      "Presolved: 9 rows, 20 columns, 40 nonzeros\n",
      "Variable types: 0 continuous, 20 integer (20 binary)\n",
      "Found heuristic solution: objective 918.0000000\n",
      "\n",
      "Root relaxation: objective 6.620000e+02, 6 iterations, 0.00 seconds (0.00 work units)\n",
      "\n",
      "    Nodes    |    Current Node    |     Objective Bounds      |     Work\n",
      " Expl Unexpl |  Obj  Depth IntInf | Incumbent    BestBd   Gap | It/Node Time\n",
      "\n",
      "*    0     0               0     662.0000000  662.00000  0.00%     -    0s\n",
      "\n",
      "Explored 1 nodes (6 simplex iterations) in 0.01 seconds (0.00 work units)\n",
      "Thread count was 16 (of 16 available processors)\n",
      "\n",
      "Solution count 3: 662 918 1490 \n",
      "\n",
      "Optimal solution found (tolerance 1.00e-04)\n",
      "Best objective 6.620000000000e+02, best bound 6.620000000000e+02, gap 0.0000%\n"
     ]
    }
   ],
   "source": [
    "mTruckCar.optimize()"
   ]
  },
  {
   "cell_type": "markdown",
   "metadata": {},
   "source": [
    "We want to print the variables with a value of greater than 0 because this is the tuple that gurobi's optimization says we should take"
   ]
  },
  {
   "cell_type": "code",
   "execution_count": 81,
   "metadata": {
    "scrolled": true
   },
   "outputs": [
    {
     "name": "stdout",
     "output_type": "stream",
     "text": [
      "TruckCar[2,4] 1.0\n",
      "TruckCar[4,1] 1.0\n",
      "TruckCar[5,2] 1.0\n",
      "TruckCar[5,3] 1.0\n",
      "Total cost: 662.0\n",
      "Total profit: 1738.0\n"
     ]
    }
   ],
   "source": [
    "for x in mTruckCar.getVars():\n",
    "    if (x.x != 0):\n",
    "        print(x.varName, x.x)\n",
    "print('Total cost: ' + str(mTruckCar.objVal))\n",
    "print('Total profit: ' + str(2400-mTruckCar.objVal))"
   ]
  },
  {
   "cell_type": "markdown",
   "metadata": {},
   "source": [
    "# Question 2"
   ]
  },
  {
   "cell_type": "code",
   "execution_count": 82,
   "metadata": {},
   "outputs": [],
   "source": [
    "AssetYear, spend = gp.multidict(\n",
    "{\n",
    "    (1, 1): 35,  # Car Year 1\n",
    "    (1, 2): 37,  # Car Year 2\n",
    "    (1, 3): 39,  # Car Year 3\n",
    "    (1, 4): 42,  # Car Year 4\n",
    "    (1, 5): 45,  # Car Year 5\n",
    "    (2, 1): 16,  # Piano Year 1\n",
    "    (2, 2): 17,  # Piano Year 2\n",
    "    (2, 3): 18,  # Piano Year 3\n",
    "    (2, 4): 19,  # Piano Year 4\n",
    "    (2, 5): 20,  # Piano Year 5\n",
    "    (3, 1): 125, # Necklace Year 1\n",
    "    (3, 2): 130, # Necklace Year 2\n",
    "    (3, 3): 136, # Necklace Year 3\n",
    "    (3, 4): 139, # Necklace Year 4\n",
    "    (3, 5): 144, # Necklace Year 5\n",
    "    (4, 1): 25,  # Desk Year 1\n",
    "    (4, 2): 27,  # Desk Year 2\n",
    "    (4, 3): 29,  # Desk Year 3\n",
    "    (4, 4): 30,  # Desk Year 4\n",
    "    (4, 5): 33,  # Desk Year 5\n",
    "    (5, 1): 40,  # Golf Clubs Year 1\n",
    "    (5, 2): 43,  # Golf Clubs Year 2\n",
    "    (5, 3): 46,  # Golf Clubs Year 3\n",
    "    (5, 4): 50,  # Golf Clubs Year 4\n",
    "    (5, 5): 52,  # Golf Clubs Year 5\n",
    "    (6, 1): 5,   # Humidor Year 1\n",
    "    (6, 2): 7,   # Humidor Year 2\n",
    "    (6, 3): 8,   # Humidor Year 3\n",
    "    (6, 4): 10,  # Humidor Year 4\n",
    "    (6, 5): 11   # Humidor Year 5\n",
    "})\n",
    "\n"
   ]
  },
  {
   "cell_type": "code",
   "execution_count": 83,
   "metadata": {},
   "outputs": [
    {
     "name": "stdout",
     "output_type": "stream",
     "text": [
      "Warning: linear constraint 0 and linear constraint 1 have the same name \"spend_year\"\n",
      "Gurobi Optimizer version 11.0.1 build v11.0.1rc0 (win64 - Windows 10.0 (19045.2))\n",
      "\n",
      "CPU model: AMD Ryzen 9 5900HS with Radeon Graphics, instruction set [SSE2|AVX|AVX2]\n",
      "Thread count: 8 physical cores, 16 logical processors, using up to 16 threads\n",
      "\n",
      "Optimize a model with 11 rows, 30 columns and 60 nonzeros\n",
      "Model fingerprint: 0x42417346\n",
      "Variable types: 0 continuous, 30 integer (30 binary)\n",
      "Coefficient statistics:\n",
      "  Matrix range     [1e+00, 1e+02]\n",
      "  Objective range  [5e+00, 1e+02]\n",
      "  Bounds range     [1e+00, 1e+00]\n",
      "  RHS range        [1e+00, 3e+01]\n",
      "Found heuristic solution: objective 274.0000000\n",
      "Presolve removed 0 rows and 2 columns\n",
      "Presolve time: 0.00s\n",
      "Presolved: 11 rows, 28 columns, 56 nonzeros\n",
      "Variable types: 0 continuous, 28 integer (28 binary)\n",
      "\n",
      "Root relaxation: objective 2.750000e+02, 21 iterations, 0.00 seconds (0.00 work units)\n",
      "\n",
      "    Nodes    |    Current Node    |     Objective Bounds      |     Work\n",
      " Expl Unexpl |  Obj  Depth IntInf | Incumbent    BestBd   Gap | It/Node Time\n",
      "\n",
      "*    0     0               0     275.0000000  275.00000  0.00%     -    0s\n",
      "\n",
      "Explored 1 nodes (21 simplex iterations) in 0.01 seconds (0.00 work units)\n",
      "Thread count was 16 (of 16 available processors)\n",
      "\n",
      "Solution count 2: 275 274 \n",
      "\n",
      "Optimal solution found (tolerance 1.00e-04)\n",
      "Best objective 2.750000000000e+02, best bound 2.750000000000e+02, gap 0.0000%\n"
     ]
    }
   ],
   "source": [
    "mAssetYear = gp.Model('AssetYear')\n",
    "assign = mAssetYear.addVars(AssetYear, vtype='B', name='assign')\n",
    "\n",
    "# Objective function\n",
    "money = gp.quicksum(spend[i,j]*assign[i,j] for i,j in AssetYear )\n",
    "mAssetYear.setObjective(money, GRB.MAXIMIZE)\n",
    "\n",
    "for j in range(1, 6):\n",
    "    mAssetYear.addConstr(\n",
    "        sum(  spend[i,j] * assign[i, j] for i,j in AssetYear.select(\"*\", j)) >= 30,\n",
    "        name=\"spend_year\"\n",
    ")\n",
    "    \n",
    "for i in range(1, 7):\n",
    "    mAssetYear.addConstr(\n",
    "        sum( assign[i, j] for i,j in AssetYear.select(i,'*')) == 1,\n",
    "        name=\"asset_demand\"\n",
    ")\n",
    "    \n",
    "# Verify model formulation\n",
    "mAssetYear.write('AssetYear.lp')    \n",
    "\n",
    "mAssetYear.optimize()"
   ]
  },
  {
   "cell_type": "code",
   "execution_count": 84,
   "metadata": {},
   "outputs": [
    {
     "name": "stdout",
     "output_type": "stream",
     "text": [
      "assign[1,1] 1.0\n",
      "assign[2,5] 1.0\n",
      "assign[3,3] 1.0\n",
      "assign[4,4] 1.0\n",
      "assign[5,2] 1.0\n",
      "assign[6,5] 1.0\n",
      "Total spend: 275000.0\n"
     ]
    }
   ],
   "source": [
    "for x in mAssetYear.getVars():\n",
    "    if (x.x != 0):\n",
    "        print(x.varName, x.x)\n",
    "print('Total spend: ' + str(mAssetYear.objVal*1000))"
   ]
  },
  {
   "cell_type": "markdown",
   "metadata": {},
   "source": [
    "# Question 3"
   ]
  },
  {
   "cell_type": "code",
   "execution_count": 85,
   "metadata": {},
   "outputs": [],
   "source": [
    "\n",
    "regionToRegeion, time = gp.multidict(\n",
    "{\n",
    "    (1, 1): 0,  # Region 1 to Region 1\n",
    "    (1, 2): 4,  # Region 1 to Region 2\n",
    "    (1, 3): 3,  # Region 1 to Region 3\n",
    "    (1, 4): 6,  # Region 1 to Region 4\n",
    "    (1, 5): 6,  # Region 1 to Region 5\n",
    "    (1, 6): 5,  # Region 1 to Region 6\n",
    "    (2, 1): 4,  # Region 2 to Region 1\n",
    "    (2, 2): 0,  # Region 2 to Region 2\n",
    "    (2, 3): 7,  # Region 2 to Region 3\n",
    "    (2, 4): 5,  # Region 2 to Region 4\n",
    "    (2, 5): 5,  # Region 2 to Region 5\n",
    "    (2, 6): 6,  # Region 2 to Region 6\n",
    "    (3, 1): 3,  # Region 3 to Region 1\n",
    "    (3, 2): 7,  # Region 3 to Region 2\n",
    "    (3, 3): 0,  # Region 3 to Region 3\n",
    "    (3, 4): 4,  # Region 3 to Region 4\n",
    "    (3, 5): 3,  # Region 3 to Region 5\n",
    "    (3, 6): 5,  # Region 3 to Region 6\n",
    "    (4, 1): 6,  # Region 4 to Region 1\n",
    "    (4, 2): 5,  # Region 4 to Region 2\n",
    "    (4, 3): 4,  # Region 4 to Region 3\n",
    "    (4, 4): 0,  # Region 4 to Region 4\n",
    "    (4, 5): 7,  # Region 4 to Region 5\n",
    "    (4, 6): 5,  # Region 4 to Region 6\n",
    "    (5, 1): 6,  # Region 5 to Region 1\n",
    "    (5, 2): 5,  # Region 5 to Region 2\n",
    "    (5, 3): 3,  # Region 5 to Region 3\n",
    "    (5, 4): 7,  # Region 5 to Region 4\n",
    "    (5, 5): 0,  # Region 5 to Region 5\n",
    "    (5, 6): 2,  # Region 5 to Region 6\n",
    "    (6, 1): 5,  # Region 6 to Region 1\n",
    "    (6, 2): 6,  # Region 6 to Region 2\n",
    "    (6, 3): 5,  # Region 6 to Region 3\n",
    "    (6, 4): 5,  # Region 6 to Region 4\n",
    "    (6, 5): 2,  # Region 6 to Region 5\n",
    "    (6, 6): 0   # Region 6 to Region 6\n",
    "})\n",
    "\n",
    "pop = {\n",
    "    1: 21,  \n",
    "    2: 35,  \n",
    "    3: 15,  \n",
    "    4: 60,  \n",
    "    5: 20,\n",
    "    6: 37   \n",
    "}"
   ]
  },
  {
   "cell_type": "code",
   "execution_count": 86,
   "metadata": {},
   "outputs": [
    {
     "data": {
      "text/plain": [
       "{(1, 1): 0,\n",
       " (1, 2): 1,\n",
       " (1, 3): 0,\n",
       " (1, 4): 1,\n",
       " (1, 5): 1,\n",
       " (1, 6): 1,\n",
       " (2, 1): 1,\n",
       " (2, 2): 0,\n",
       " (2, 3): 1,\n",
       " (2, 4): 1,\n",
       " (2, 5): 1,\n",
       " (2, 6): 1,\n",
       " (3, 1): 0,\n",
       " (3, 2): 1,\n",
       " (3, 3): 0,\n",
       " (3, 4): 1,\n",
       " (3, 5): 0,\n",
       " (3, 6): 1,\n",
       " (4, 1): 1,\n",
       " (4, 2): 1,\n",
       " (4, 3): 1,\n",
       " (4, 4): 0,\n",
       " (4, 5): 1,\n",
       " (4, 6): 1,\n",
       " (5, 1): 1,\n",
       " (5, 2): 1,\n",
       " (5, 3): 0,\n",
       " (5, 4): 1,\n",
       " (5, 5): 0,\n",
       " (5, 6): 0,\n",
       " (6, 1): 1,\n",
       " (6, 2): 1,\n",
       " (6, 3): 1,\n",
       " (6, 4): 1,\n",
       " (6, 5): 0,\n",
       " (6, 6): 0}"
      ]
     },
     "execution_count": 86,
     "metadata": {},
     "output_type": "execute_result"
    }
   ],
   "source": [
    "# Transform the time values based on the condition\n",
    "transformed_time = {(i, j): (1 if time[i, j] >= 4 else 0) for i, j in time}\n",
    "transformed_time"
   ]
  },
  {
   "cell_type": "code",
   "execution_count": 87,
   "metadata": {},
   "outputs": [
    {
     "name": "stdout",
     "output_type": "stream",
     "text": [
      "Warning: linear constraint 1 and linear constraint 2 have the same name \"num_amb\"\n",
      "Gurobi Optimizer version 11.0.1 build v11.0.1rc0 (win64 - Windows 10.0 (19045.2))\n",
      "\n",
      "CPU model: AMD Ryzen 9 5900HS with Radeon Graphics, instruction set [SSE2|AVX|AVX2]\n",
      "Thread count: 8 physical cores, 16 logical processors, using up to 16 threads\n",
      "\n",
      "Optimize a model with 7 rows, 12 columns and 28 nonzeros\n",
      "Model fingerprint: 0x48158cce\n",
      "Variable types: 0 continuous, 12 integer (12 binary)\n",
      "Coefficient statistics:\n",
      "  Matrix range     [1e+00, 1e+00]\n",
      "  Objective range  [2e+01, 6e+01]\n",
      "  Bounds range     [1e+00, 1e+00]\n",
      "  RHS range        [2e+00, 2e+00]\n",
      "Found heuristic solution: objective 132.0000000\n",
      "Presolve removed 7 rows and 12 columns\n",
      "Presolve time: 0.00s\n",
      "Presolve: All rows and columns removed\n",
      "\n",
      "Explored 0 nodes (0 simplex iterations) in 0.01 seconds (0.00 work units)\n",
      "Thread count was 1 (of 16 available processors)\n",
      "\n",
      "Solution count 2: 153 132 \n",
      "\n",
      "Optimal solution found (tolerance 1.00e-04)\n",
      "Best objective 1.530000000000e+02, best bound 1.530000000000e+02, gap 0.0000%\n"
     ]
    }
   ],
   "source": [
    "mAmb = gp.Model('Ambulance')\n",
    "assign = mAmb.addVars(pop, vtype='B', name='assign')\n",
    "region_in4 = mAmb.addVars(pop, vtype='B', name='region_in4')\n",
    "\n",
    "# Objective function\n",
    "tot = gp.quicksum(pop[r]*region_in4[r] for r in pop )\n",
    "mAmb.setObjective(tot, GRB.MAXIMIZE)\n",
    "\n",
    "mAmb.addConstr(\n",
    "        sum(assign[i] for i in pop) == 2,\n",
    "        name=\"tot_ambulance\"\n",
    ")\n",
    "\n",
    "# Transform the time values based on the condition\n",
    "transformed_time = {(i, j): (1 if time[i, j] <= 4 else 0) for i, j in time}\n",
    "\n",
    "for i in range(1, 7):\n",
    "    mAmb.addConstr(\n",
    "        sum( transformed_time[i, j] * assign[j] \n",
    "            for i,j in regionToRegeion.select(i,'*')) >= region_in4[i],\n",
    "        name=\"num_amb\"\n",
    ")\n",
    "    \n",
    "# Verify model formulation\n",
    "mAmb.write('Ambulance.lp')    \n",
    "\n",
    "mAmb.optimize()"
   ]
  },
  {
   "cell_type": "code",
   "execution_count": 88,
   "metadata": {},
   "outputs": [
    {
     "name": "stdout",
     "output_type": "stream",
     "text": [
      "assign[3] 1.0\n",
      "assign[6] 1.0\n",
      "region_in4[1] 1.0\n",
      "region_in4[3] 1.0\n",
      "region_in4[4] 1.0\n",
      "region_in4[5] 1.0\n",
      "region_in4[6] 1.0\n",
      "Total population: 153000.0\n"
     ]
    }
   ],
   "source": [
    "for x in mAmb.getVars():\n",
    "    if (x.x != 0):\n",
    "        print(x.varName, x.x)\n",
    "print('Total population: ' + str(mAmb.objVal*1000))"
   ]
  },
  {
   "cell_type": "markdown",
   "metadata": {},
   "source": [
    "D.  How many ambulances would be required to provide coverage within four minutes to all residents?"
   ]
  },
  {
   "cell_type": "markdown",
   "metadata": {},
   "source": [
    "New objective and constraint are in the pdf"
   ]
  },
  {
   "cell_type": "code",
   "execution_count": 89,
   "metadata": {},
   "outputs": [
    {
     "name": "stdout",
     "output_type": "stream",
     "text": [
      "Warning: linear constraint 0 and linear constraint 1 have the same name \"num_amb\"\n",
      "Gurobi Optimizer version 11.0.1 build v11.0.1rc0 (win64 - Windows 10.0 (19045.2))\n",
      "\n",
      "CPU model: AMD Ryzen 9 5900HS with Radeon Graphics, instruction set [SSE2|AVX|AVX2]\n",
      "Thread count: 8 physical cores, 16 logical processors, using up to 16 threads\n",
      "\n",
      "Optimize a model with 7 rows, 12 columns and 28 nonzeros\n",
      "Model fingerprint: 0x519dd082\n",
      "Variable types: 0 continuous, 12 integer (12 binary)\n",
      "Coefficient statistics:\n",
      "  Matrix range     [1e+00, 6e+01]\n",
      "  Objective range  [1e+00, 1e+00]\n",
      "  Bounds range     [1e+00, 1e+00]\n",
      "  RHS range        [2e+02, 2e+02]\n",
      "Found heuristic solution: objective 3.0000000\n",
      "Presolve removed 7 rows and 12 columns\n",
      "Presolve time: 0.00s\n",
      "Presolve: All rows and columns removed\n",
      "\n",
      "Explored 0 nodes (0 simplex iterations) in 0.01 seconds (0.00 work units)\n",
      "Thread count was 1 (of 16 available processors)\n",
      "\n",
      "Solution count 1: 3 \n",
      "\n",
      "Optimal solution found (tolerance 1.00e-04)\n",
      "Best objective 3.000000000000e+00, best bound 3.000000000000e+00, gap 0.0000%\n"
     ]
    }
   ],
   "source": [
    "mAmb = gp.Model('Ambulance')\n",
    "assign = mAmb.addVars(pop, vtype='B', name='assign')\n",
    "region_in4 = mAmb.addVars(pop, vtype='B', name='region_in4')\n",
    "\n",
    "# Objective function\n",
    "tot_amb = gp.quicksum(assign[r] for r in pop )\n",
    "mAmb.setObjective(tot_amb, GRB.MINIMIZE)\n",
    "\n",
    "\n",
    "# Transform the time values based on the condition\n",
    "transformed_time = {(i, j): (1 if time[i, j] <= 4 else 0) for i, j in time}\n",
    "\n",
    "for i in range(1, 7):\n",
    "    mAmb.addConstr(\n",
    "        sum( transformed_time[i, j] * assign[j] \n",
    "            for i,j in regionToRegeion.select(i,'*')) >= region_in4[i],\n",
    "        name=\"num_amb\"\n",
    ")\n",
    "\n",
    "# add new const\n",
    "mAmb.addConstr( sum(pop[r]*region_in4[r] for r in pop ) == sum(pop.values()),  name=\"tot_pop\")\n",
    "\n",
    "# Verify model formulation\n",
    "mAmb.write('Ambulance.lp')    \n",
    "\n",
    "mAmb.optimize()"
   ]
  },
  {
   "cell_type": "code",
   "execution_count": 90,
   "metadata": {},
   "outputs": [
    {
     "name": "stdout",
     "output_type": "stream",
     "text": [
      "assign[1] 1.0\n",
      "assign[3] 1.0\n",
      "assign[5] 1.0\n",
      "region_in4[1] 1.0\n",
      "region_in4[2] 1.0\n",
      "region_in4[3] 1.0\n",
      "region_in4[4] 1.0\n",
      "region_in4[5] 1.0\n",
      "region_in4[6] 1.0\n",
      "Total ambulance: 3.0\n"
     ]
    }
   ],
   "source": [
    "for x in mAmb.getVars():\n",
    "    if (x.x != 0):\n",
    "        print(x.varName, x.x)\n",
    "print('Total ambulance: ' + str(mAmb.objVal))"
   ]
  },
  {
   "cell_type": "markdown",
   "metadata": {},
   "source": [
    "location 1,3,5 should be 3 locations"
   ]
  },
  {
   "cell_type": "markdown",
   "metadata": {},
   "source": [
    "E. Suppose the county wants to locate three ambulances in such a way to provide coverage to all \n",
    "residents within four minutes and maximize the redundancy in the system. (Assume redundancy means \n",
    "being able to provide service by one or more ambulances within four minutes.) Where should the \n",
    "ambulances be located? "
   ]
  },
  {
   "cell_type": "markdown",
   "metadata": {},
   "source": [
    "change the assign to integer so we may obtain more than 1 ambulance for 1 region"
   ]
  },
  {
   "cell_type": "code",
   "execution_count": 97,
   "metadata": {},
   "outputs": [
    {
     "name": "stdout",
     "output_type": "stream",
     "text": [
      "Warning: linear constraint 1 and linear constraint 2 have the same name \"num_amb\"\n",
      "Gurobi Optimizer version 11.0.1 build v11.0.1rc0 (win64 - Windows 10.0 (19045.2))\n",
      "\n",
      "CPU model: AMD Ryzen 9 5900HS with Radeon Graphics, instruction set [SSE2|AVX|AVX2]\n",
      "Thread count: 8 physical cores, 16 logical processors, using up to 16 threads\n",
      "\n",
      "Optimize a model with 8 rows, 12 columns and 34 nonzeros\n",
      "Model fingerprint: 0x0e18859d\n",
      "Variable types: 0 continuous, 12 integer (6 binary)\n",
      "Coefficient statistics:\n",
      "  Matrix range     [1e+00, 6e+01]\n",
      "  Objective range  [1e+00, 1e+00]\n",
      "  Bounds range     [1e+00, 1e+00]\n",
      "  RHS range        [3e+00, 2e+02]\n",
      "Found heuristic solution: objective 3.0000000\n",
      "Presolve removed 8 rows and 12 columns\n",
      "Presolve time: 0.00s\n",
      "Presolve: All rows and columns removed\n",
      "\n",
      "Explored 0 nodes (0 simplex iterations) in 0.01 seconds (0.00 work units)\n",
      "Thread count was 1 (of 16 available processors)\n",
      "\n",
      "Solution count 1: 3 \n",
      "\n",
      "Optimal solution found (tolerance 1.00e-04)\n",
      "Best objective 3.000000000000e+00, best bound 3.000000000000e+00, gap 0.0000%\n"
     ]
    }
   ],
   "source": [
    "mAmb = gp.Model('Ambulance')\n",
    "assign = mAmb.addVars(pop, vtype='I', name='assign')\n",
    "region_in4 = mAmb.addVars(pop, vtype='B', name='region_in4')\n",
    "\n",
    "# Objective function\n",
    "tot_amb = gp.quicksum(assign[r] for r in pop )\n",
    "mAmb.setObjective(tot_amb, GRB.MINIMIZE)\n",
    "\n",
    "mAmb.addConstr(\n",
    "        sum(assign[i] for i in pop) == 3,\n",
    "        name=\"tot_ambulance\"\n",
    ")\n",
    "\n",
    "# Transform the time values based on the condition\n",
    "transformed_time = {(i, j): (1 if time[i, j] <= 4 else 0) for i, j in time}\n",
    "\n",
    "for i in range(1, 7):\n",
    "    mAmb.addConstr(\n",
    "        sum( transformed_time[i, j] * assign[j] \n",
    "            for i,j in regionToRegeion.select(i,'*')) >= region_in4[i],\n",
    "        name=\"num_amb\"\n",
    ")\n",
    "\n",
    "# add new const\n",
    "mAmb.addConstr( sum(pop[r]*region_in4[r] for r in pop ) == sum(pop.values()),  name=\"tot_pop\")\n",
    "\n",
    "# Verify model formulation\n",
    "mAmb.write('Ambulance.lp')    \n",
    "\n",
    "mAmb.optimize()"
   ]
  },
  {
   "cell_type": "code",
   "execution_count": 98,
   "metadata": {},
   "outputs": [
    {
     "name": "stdout",
     "output_type": "stream",
     "text": [
      "assign[1] 1.0\n",
      "assign[3] 1.0\n",
      "assign[5] 1.0\n",
      "region_in4[1] 1.0\n",
      "region_in4[2] 1.0\n",
      "region_in4[3] 1.0\n",
      "region_in4[4] 1.0\n",
      "region_in4[5] 1.0\n",
      "region_in4[6] 1.0\n",
      "Total ambulance: 3.0\n"
     ]
    }
   ],
   "source": [
    "for x in mAmb.getVars():\n",
    "    if (x.x != 0):\n",
    "        print(x.varName, x.x)\n",
    "print('Total ambulance: ' + str(mAmb.objVal))"
   ]
  },
  {
   "cell_type": "markdown",
   "metadata": {},
   "source": [
    "still choosing location 1,3,5 and still only 1 ambulance for each"
   ]
  },
  {
   "cell_type": "code",
   "execution_count": null,
   "metadata": {},
   "outputs": [],
   "source": []
  }
 ],
 "metadata": {
  "kernelspec": {
   "display_name": "Python 3 (ipykernel)",
   "language": "python",
   "name": "python3"
  },
  "language_info": {
   "codemirror_mode": {
    "name": "ipython",
    "version": 3
   },
   "file_extension": ".py",
   "mimetype": "text/x-python",
   "name": "python",
   "nbconvert_exporter": "python",
   "pygments_lexer": "ipython3",
   "version": "3.11.5"
  }
 },
 "nbformat": 4,
 "nbformat_minor": 2
}
