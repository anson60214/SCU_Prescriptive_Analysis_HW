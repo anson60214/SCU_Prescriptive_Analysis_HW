{
 "cells": [
  {
   "cell_type": "markdown",
   "metadata": {},
   "source": [
    "# Question 1"
   ]
  },
  {
   "cell_type": "code",
   "execution_count": 108,
   "metadata": {},
   "outputs": [],
   "source": [
    "import gurobipy as gp\n",
    "from gurobipy import GRB"
   ]
  },
  {
   "cell_type": "code",
   "execution_count": 109,
   "metadata": {},
   "outputs": [],
   "source": [
    "mShift = gp.Model('workerShift')"
   ]
  },
  {
   "cell_type": "code",
   "execution_count": 110,
   "metadata": {},
   "outputs": [],
   "source": [
    "x1 = mShift.addVar(name = \"x1\", vtype = 'I') \n",
    "x2 = mShift.addVar(name = \"x2\", vtype = 'I') \n",
    "x3 = mShift.addVar(name = \"x3\", vtype = 'I') \n",
    "y1 = mShift.addVar(name = \"y1\", vtype = 'I') \n",
    "y2 = mShift.addVar(name = \"y2\", vtype = 'I') \n",
    "y3 = mShift.addVar(name = \"y3\", vtype = 'I') \n",
    "y4 = mShift.addVar(name = \"y4\", vtype = 'I') "
   ]
  },
  {
   "cell_type": "code",
   "execution_count": 111,
   "metadata": {},
   "outputs": [],
   "source": [
    "mShift.setObjective(80*(x1+x2+x3)+32*(y1+y2+y3+y4) , GRB.MINIMIZE)"
   ]
  },
  {
   "cell_type": "code",
   "execution_count": 112,
   "metadata": {},
   "outputs": [
    {
     "data": {
      "text/plain": [
       "<gurobi.Constr *Awaiting Model Update*>"
      ]
     },
     "execution_count": 112,
     "metadata": {},
     "output_type": "execute_result"
    }
   ],
   "source": [
    "mShift.addConstr(x1 + y1 >= 11)\n",
    "mShift.addConstr(x1 + x2 + y2 >= 24)\n",
    "mShift.addConstr(x1 + x2 + y2 >= 16)\n",
    "mShift.addConstr(x2 + x3 + y3 >= 10)\n",
    "mShift.addConstr(x2 + x3 + y3 >= 22)\n",
    "mShift.addConstr(x3 + y4 >= 17)\n",
    "mShift.addConstr(x3 + y4 >= 6)\n",
    "mShift.addConstr(x1 >= 1)\n",
    "mShift.addConstr(x3 >= 1)\n",
    "\n",
    "mShift.addConstr(x1 + x2 >= 0.3*(x1 + x2 + y2) )\n",
    "mShift.addConstr(x2 + x3 >= 0.3*(x2 + x3 + y3) )"
   ]
  },
  {
   "cell_type": "code",
   "execution_count": 113,
   "metadata": {},
   "outputs": [],
   "source": [
    "# Verify model formulation\n",
    "\n",
    "mShift.write('workerShift.lp')"
   ]
  },
  {
   "cell_type": "code",
   "execution_count": 114,
   "metadata": {},
   "outputs": [
    {
     "name": "stdout",
     "output_type": "stream",
     "text": [
      "Gurobi Optimizer version 11.0.1 build v11.0.1rc0 (win64 - Windows 10.0 (19045.2))\n",
      "\n",
      "CPU model: AMD Ryzen 9 5900HS with Radeon Graphics, instruction set [SSE2|AVX|AVX2]\n",
      "Thread count: 8 physical cores, 16 logical processors, using up to 16 threads\n",
      "\n",
      "Optimize a model with 11 rows, 7 columns and 26 nonzeros\n",
      "Model fingerprint: 0x215a1fab\n",
      "Variable types: 0 continuous, 7 integer (0 binary)\n",
      "Coefficient statistics:\n",
      "  Matrix range     [3e-01, 1e+00]\n",
      "  Objective range  [3e+01, 8e+01]\n",
      "  Bounds range     [0e+00, 0e+00]\n",
      "  RHS range        [1e+00, 2e+01]\n",
      "Found heuristic solution: objective 2832.0000000\n",
      "Presolve removed 5 rows and 0 columns\n",
      "Presolve time: 0.00s\n",
      "Presolved: 6 rows, 7 columns, 16 nonzeros\n",
      "Variable types: 0 continuous, 7 integer (0 binary)\n",
      "Found heuristic solution: objective 2784.0000000\n",
      "\n",
      "Root relaxation: objective 2.499200e+03, 2 iterations, 0.00 seconds (0.00 work units)\n",
      "\n",
      "    Nodes    |    Current Node    |     Objective Bounds      |     Work\n",
      " Expl Unexpl |  Obj  Depth IntInf | Incumbent    BestBd   Gap | It/Node Time\n",
      "\n",
      "     0     0 2499.20000    0    5 2784.00000 2499.20000  10.2%     -    0s\n",
      "H    0     0                    2512.0000000 2499.20000  0.51%     -    0s\n",
      "     0     0 2499.20000    0    5 2512.00000 2499.20000  0.51%     -    0s\n",
      "\n",
      "Explored 1 nodes (2 simplex iterations) in 0.01 seconds (0.00 work units)\n",
      "Thread count was 16 (of 16 available processors)\n",
      "\n",
      "Solution count 3: 2512 2784 2832 \n",
      "\n",
      "Optimal solution found (tolerance 1.00e-04)\n",
      "Best objective 2.512000000000e+03, best bound 2.512000000000e+03, gap 0.0000%\n"
     ]
    }
   ],
   "source": [
    "mShift.optimize()"
   ]
  },
  {
   "cell_type": "markdown",
   "metadata": {},
   "source": [
    "We want to print the variables with a value of greater than 0 because this is the tuple that gurobi's optimization says we should take"
   ]
  },
  {
   "cell_type": "code",
   "execution_count": 115,
   "metadata": {},
   "outputs": [
    {
     "data": {
      "text/plain": [
       "<bound method Model.getVars of <gurobi.Model MIP instance workerShift: 11 constrs, 7 vars, No parameter changes>>"
      ]
     },
     "execution_count": 115,
     "metadata": {},
     "output_type": "execute_result"
    }
   ],
   "source": [
    "mShift.getVars"
   ]
  },
  {
   "cell_type": "code",
   "execution_count": 116,
   "metadata": {
    "scrolled": true
   },
   "outputs": [
    {
     "name": "stdout",
     "output_type": "stream",
     "text": [
      "x1 2.0\n",
      "x2 6.0\n",
      "x3 1.0\n",
      "y1 9.0\n",
      "y2 16.0\n",
      "y3 15.0\n",
      "y4 16.0\n",
      "Total Cost: 2512.0\n"
     ]
    }
   ],
   "source": [
    "for x in mShift.getVars():\n",
    "    print(x.varName, x.x)\n",
    "print('Total Cost: ' + str(mShift.objVal))"
   ]
  },
  {
   "cell_type": "markdown",
   "metadata": {},
   "source": [
    "# Question 2"
   ]
  },
  {
   "cell_type": "code",
   "execution_count": 117,
   "metadata": {},
   "outputs": [],
   "source": [
    "mApart = gp.Model('apartment')"
   ]
  },
  {
   "cell_type": "code",
   "execution_count": 118,
   "metadata": {},
   "outputs": [],
   "source": [
    "x1 = mApart.addVar(name = \"x1\", vtype = 'I') \n",
    "x2 = mApart.addVar(name = \"x2\", vtype = 'I') \n",
    "x3 = mApart.addVar(name = \"x3\", vtype = 'I') \n",
    "x4 = mApart.addVar(name = \"x4\", vtype = 'I') "
   ]
  },
  {
   "cell_type": "code",
   "execution_count": 119,
   "metadata": {},
   "outputs": [],
   "source": [
    "mApart.setObjective(350*x1 + 450*x2 + 550*x3 + 750*x4 , GRB.MAXIMIZE)"
   ]
  },
  {
   "cell_type": "code",
   "execution_count": 120,
   "metadata": {},
   "outputs": [
    {
     "data": {
      "text/plain": [
       "<gurobi.Constr *Awaiting Model Update*>"
      ]
     },
     "execution_count": 120,
     "metadata": {},
     "output_type": "execute_result"
    }
   ],
   "source": [
    "mApart.addConstr(500*x1 + 700*x2 + 800*x3 + 1000*x4 <= 40000, name=\"c1\")\n",
    "mApart.addConstr(x1 + x2 + x3 + x4 <= 40, name=\"c2\")\n",
    "mApart.addConstr(x1 <= 40, name=\"c3\")\n",
    "mApart.addConstr(x2 <= 15, name=\"c4\")\n",
    "mApart.addConstr(x2 >= 5, name=\"c5\")\n",
    "mApart.addConstr(x3 <= 22, name=\"c6\")\n",
    "mApart.addConstr(x3 >= 8, name=\"c7\")\n",
    "mApart.addConstr(x4 <= 10, name=\"c8\")"
   ]
  },
  {
   "cell_type": "code",
   "execution_count": 121,
   "metadata": {},
   "outputs": [],
   "source": [
    "# Verify model formulation\n",
    "\n",
    "mApart.write('apartment.lp')"
   ]
  },
  {
   "cell_type": "code",
   "execution_count": 122,
   "metadata": {},
   "outputs": [
    {
     "name": "stdout",
     "output_type": "stream",
     "text": [
      "Gurobi Optimizer version 11.0.1 build v11.0.1rc0 (win64 - Windows 10.0 (19045.2))\n",
      "\n",
      "CPU model: AMD Ryzen 9 5900HS with Radeon Graphics, instruction set [SSE2|AVX|AVX2]\n",
      "Thread count: 8 physical cores, 16 logical processors, using up to 16 threads\n",
      "\n",
      "Optimize a model with 8 rows, 4 columns and 14 nonzeros\n",
      "Model fingerprint: 0x32a9e154\n",
      "Variable types: 0 continuous, 4 integer (0 binary)\n",
      "Coefficient statistics:\n",
      "  Matrix range     [1e+00, 1e+03]\n",
      "  Objective range  [4e+02, 8e+02]\n",
      "  Bounds range     [0e+00, 0e+00]\n",
      "  RHS range        [5e+00, 4e+04]\n",
      "Presolve removed 8 rows and 4 columns\n",
      "Presolve time: 0.00s\n",
      "Presolve: All rows and columns removed\n",
      "\n",
      "Explored 0 nodes (0 simplex iterations) in 0.00 seconds (0.00 work units)\n",
      "Thread count was 1 (of 16 available processors)\n",
      "\n",
      "Solution count 1: 23200 \n",
      "\n",
      "Optimal solution found (tolerance 1.00e-04)\n",
      "Best objective 2.320000000000e+04, best bound 2.320000000000e+04, gap 0.0000%\n"
     ]
    }
   ],
   "source": [
    "mApart.optimize()"
   ]
  },
  {
   "cell_type": "code",
   "execution_count": 123,
   "metadata": {},
   "outputs": [
    {
     "name": "stdout",
     "output_type": "stream",
     "text": [
      "x2 8.0\n",
      "x3 22.0\n",
      "x4 10.0\n",
      "Total profit: 23200.0\n"
     ]
    }
   ],
   "source": [
    "for x in mApart.getVars():\n",
    "    if (x.x != 0):\n",
    "        print(x.varName, x.x)\n",
    "print('Total profit: ' + str(mApart.objVal))"
   ]
  },
  {
   "cell_type": "markdown",
   "metadata": {},
   "source": [
    "D. Which constraint in this model limits the builder’s potential rental income from increasing any further?"
   ]
  },
  {
   "cell_type": "code",
   "execution_count": 124,
   "metadata": {},
   "outputs": [
    {
     "name": "stdout",
     "output_type": "stream",
     "text": [
      "Gurobi Optimizer version 11.0.1 build v11.0.1rc0 (win64 - Windows 10.0 (19045.2))\n",
      "\n",
      "CPU model: AMD Ryzen 9 5900HS with Radeon Graphics, instruction set [SSE2|AVX|AVX2]\n",
      "Thread count: 8 physical cores, 16 logical processors, using up to 16 threads\n",
      "\n",
      "Optimize a model with 15 rows, 8 columns and 27 nonzeros\n",
      "Model fingerprint: 0xf58641cb\n",
      "Variable types: 0 continuous, 8 integer (0 binary)\n",
      "Coefficient statistics:\n",
      "  Matrix range     [1e+00, 1e+03]\n",
      "  Objective range  [4e+02, 8e+02]\n",
      "  Bounds range     [0e+00, 0e+00]\n",
      "  RHS range        [5e+00, 4e+04]\n",
      "\n",
      "MIP start from previous solve produced solution with objective 23500 (0.00s)\n",
      "Loaded MIP start from previous solve with objective 23500\n",
      "\n",
      "Presolve removed 15 rows and 8 columns\n",
      "Presolve time: 0.00s\n",
      "Presolve: All rows and columns removed\n",
      "\n",
      "Explored 0 nodes (0 simplex iterations) in 0.01 seconds (0.00 work units)\n",
      "Thread count was 1 (of 16 available processors)\n",
      "\n",
      "Solution count 1: 23500 \n",
      "\n",
      "Optimal solution found (tolerance 1.00e-04)\n",
      "Best objective 2.350000000000e+04, best bound 2.350000000000e+04, gap 0.0000%\n",
      "Total profit: 23500.0\n"
     ]
    }
   ],
   "source": [
    "x1 = mApart.addVar(name = \"x1\", vtype = 'I') \n",
    "x2 = mApart.addVar(name = \"x2\", vtype = 'I') \n",
    "x3 = mApart.addVar(name = \"x3\", vtype = 'I') \n",
    "x4 = mApart.addVar(name = \"x4\", vtype = 'I') \n",
    "mApart.setObjective(350*x1 + 450*x2 + 550*x3 + 750*x4 , GRB.MAXIMIZE)\n",
    "\n",
    "mApart.addConstr(500*x1 + 700*x2 + 800*x3 + 1000*x4 <= 40000, name=\"c1\")\n",
    "mApart.addConstr(x1 + x2 + x3 + x4 <= 40, name=\"c2\")\n",
    "mApart.addConstr(x1 <= 40, name=\"c3\")\n",
    "mApart.addConstr(x2 <= 15, name=\"c4\")\n",
    "mApart.addConstr(x2 >= 5, name=\"c5\")\n",
    "#mApart.addConstr(x3 <= 22, name=\"c6\")\n",
    "mApart.addConstr(x3 >= 8, name=\"c7\")\n",
    "mApart.addConstr(x4 <= 10, name=\"c8\")\n",
    "\n",
    "mApart.optimize()\n",
    "print('Total profit: ' + str(mApart.objVal))"
   ]
  },
  {
   "cell_type": "code",
   "execution_count": 125,
   "metadata": {},
   "outputs": [
    {
     "name": "stdout",
     "output_type": "stream",
     "text": [
      "Gurobi Optimizer version 11.0.1 build v11.0.1rc0 (win64 - Windows 10.0 (19045.2))\n",
      "\n",
      "CPU model: AMD Ryzen 9 5900HS with Radeon Graphics, instruction set [SSE2|AVX|AVX2]\n",
      "Thread count: 8 physical cores, 16 logical processors, using up to 16 threads\n",
      "\n",
      "Optimize a model with 22 rows, 12 columns and 40 nonzeros\n",
      "Model fingerprint: 0xdaedcd37\n",
      "Variable types: 0 continuous, 12 integer (0 binary)\n",
      "Coefficient statistics:\n",
      "  Matrix range     [1e+00, 1e+03]\n",
      "  Objective range  [4e+02, 8e+02]\n",
      "  Bounds range     [0e+00, 0e+00]\n",
      "  RHS range        [5e+00, 4e+04]\n",
      "\n",
      "MIP start from previous solve produced solution with objective 26900 (0.00s)\n",
      "Loaded MIP start from previous solve with objective 26900\n",
      "\n",
      "Presolve removed 22 rows and 12 columns\n",
      "Presolve time: 0.00s\n",
      "Presolve: All rows and columns removed\n",
      "\n",
      "Explored 0 nodes (0 simplex iterations) in 0.01 seconds (0.00 work units)\n",
      "Thread count was 1 (of 16 available processors)\n",
      "\n",
      "Solution count 1: 26900 \n",
      "\n",
      "Optimal solution found (tolerance 1.00e-04)\n",
      "Best objective 2.690000000000e+04, best bound 2.690000000000e+04, gap 0.0000%\n",
      "Total profit: 26900.0\n"
     ]
    }
   ],
   "source": [
    "x1 = mApart.addVar(name = \"x1\", vtype = 'I') \n",
    "x2 = mApart.addVar(name = \"x2\", vtype = 'I') \n",
    "x3 = mApart.addVar(name = \"x3\", vtype = 'I') \n",
    "x4 = mApart.addVar(name = \"x4\", vtype = 'I') \n",
    "mApart.setObjective(350*x1 + 450*x2 + 550*x3 + 750*x4 , GRB.MAXIMIZE)\n",
    "\n",
    "mApart.addConstr(500*x1 + 700*x2 + 800*x3 + 1000*x4 <= 40000, name=\"c1\")\n",
    "mApart.addConstr(x1 + x2 + x3 + x4 <= 40, name=\"c2\")\n",
    "mApart.addConstr(x1 <= 40, name=\"c3\")\n",
    "mApart.addConstr(x2 <= 15, name=\"c4\")\n",
    "mApart.addConstr(x2 >= 5, name=\"c5\")\n",
    "mApart.addConstr(x3 <= 22, name=\"c6\")\n",
    "mApart.addConstr(x3 >= 8, name=\"c7\")\n",
    "#mApart.addConstr(x4 <= 10, name=\"c8\")\n",
    "\n",
    "mApart.optimize()\n",
    "print('Total profit: ' + str(mApart.objVal))"
   ]
  },
  {
   "cell_type": "markdown",
   "metadata": {},
   "source": [
    "for c2,c6,c8, if we remove them, then we can increase the profit. But since c2 is the total unit, if we remove may be irrational\n",
    "And 2-bedroom, 3-bedroom's optimal solution are just on the boundry of the constraints c6, c8.\n",
    "so if we remove them, it will increase the profit. Lastly, comparing removing c6 and c8, removing c8 will increase more."
   ]
  },
  {
   "cell_type": "markdown",
   "metadata": {},
   "source": [
    "# Question 3"
   ]
  },
  {
   "cell_type": "code",
   "execution_count": 143,
   "metadata": {},
   "outputs": [],
   "source": [
    "mboard = gp.Model('cuttingBoard')"
   ]
  },
  {
   "cell_type": "code",
   "execution_count": 144,
   "metadata": {},
   "outputs": [],
   "source": [
    "x1 = mboard.addVar(name = \"x1\", vtype = 'I') \n",
    "x2 = mboard.addVar(name = \"x2\", vtype = 'I') \n",
    "x3 = mboard.addVar(name = \"x3\", vtype = 'I') \n",
    "x4 = mboard.addVar(name = \"x4\", vtype = 'I') \n",
    "x5 = mboard.addVar(name = \"x5\", vtype = 'I') \n",
    "x6 = mboard.addVar(name = \"x6\", vtype = 'I') "
   ]
  },
  {
   "cell_type": "code",
   "execution_count": 145,
   "metadata": {},
   "outputs": [],
   "source": [
    "mboard.setObjective(x1 + x2 + x3 + x4 + x5 + x6 , GRB.MINIMIZE)"
   ]
  },
  {
   "cell_type": "code",
   "execution_count": 146,
   "metadata": {},
   "outputs": [
    {
     "data": {
      "text/plain": [
       "<gurobi.Constr *Awaiting Model Update*>"
      ]
     },
     "execution_count": 146,
     "metadata": {},
     "output_type": "execute_result"
    }
   ],
   "source": [
    "mboard.addConstr(3*x1 + 2*x2 + 2*x3 + x4 >= 5000, name=\"c1\")\n",
    "mboard.addConstr(x2 + 2*x4 + x5 >= 1200, name=\"c2\")\n",
    "mboard.addConstr(x3 + x5 + 2*x6 >= 300, name=\"c3\")"
   ]
  },
  {
   "cell_type": "code",
   "execution_count": null,
   "metadata": {},
   "outputs": [],
   "source": [
    "# Verify model formulation\n",
    "\n",
    "mboard.write('cuttingBoard.lp')"
   ]
  },
  {
   "cell_type": "code",
   "execution_count": 147,
   "metadata": {},
   "outputs": [
    {
     "name": "stdout",
     "output_type": "stream",
     "text": [
      "Gurobi Optimizer version 11.0.1 build v11.0.1rc0 (win64 - Windows 10.0 (19045.2))\n",
      "\n",
      "CPU model: AMD Ryzen 9 5900HS with Radeon Graphics, instruction set [SSE2|AVX|AVX2]\n",
      "Thread count: 8 physical cores, 16 logical processors, using up to 16 threads\n",
      "\n",
      "Optimize a model with 3 rows, 6 columns and 10 nonzeros\n",
      "Model fingerprint: 0x98b4e104\n",
      "Variable types: 0 continuous, 6 integer (0 binary)\n",
      "Coefficient statistics:\n",
      "  Matrix range     [1e+00, 3e+00]\n",
      "  Objective range  [1e+00, 1e+00]\n",
      "  Bounds range     [0e+00, 0e+00]\n",
      "  RHS range        [3e+02, 5e+03]\n",
      "Found heuristic solution: objective 5150.0000000\n",
      "Presolve time: 0.00s\n",
      "Presolved: 3 rows, 6 columns, 10 nonzeros\n",
      "Variable types: 0 continuous, 6 integer (0 binary)\n",
      "\n",
      "Root relaxation: objective 2.166667e+03, 3 iterations, 0.00 seconds (0.00 work units)\n",
      "\n",
      "    Nodes    |    Current Node    |     Objective Bounds      |     Work\n",
      " Expl Unexpl |  Obj  Depth IntInf | Incumbent    BestBd   Gap | It/Node Time\n",
      "\n",
      "     0     0 2166.66667    0    1 5150.00000 2166.66667  57.9%     -    0s\n",
      "H    0     0                    2167.0000000 2166.66667  0.02%     -    0s\n",
      "     0     0 2166.66667    0    1 2167.00000 2166.66667  0.02%     -    0s\n",
      "\n",
      "Explored 1 nodes (3 simplex iterations) in 0.01 seconds (0.00 work units)\n",
      "Thread count was 16 (of 16 available processors)\n",
      "\n",
      "Solution count 2: 2167 5150 \n",
      "\n",
      "Optimal solution found (tolerance 1.00e-04)\n",
      "Best objective 2.167000000000e+03, best bound 2.167000000000e+03, gap 0.0000%\n"
     ]
    }
   ],
   "source": [
    "mboard.optimize()"
   ]
  },
  {
   "cell_type": "code",
   "execution_count": 148,
   "metadata": {},
   "outputs": [
    {
     "name": "stdout",
     "output_type": "stream",
     "text": [
      "x1 667.0\n",
      "x2 1200.0\n",
      "x3 300.0\n",
      "Total board: 2167.0\n"
     ]
    }
   ],
   "source": [
    "for x in mboard.getVars():\n",
    "    if (x.x != 0):\n",
    "        print(x.varName, x.x)\n",
    "print('Total board: ' + str(mboard.objVal))"
   ]
  },
  {
   "cell_type": "code",
   "execution_count": null,
   "metadata": {},
   "outputs": [],
   "source": []
  }
 ],
 "metadata": {
  "kernelspec": {
   "display_name": "Python 3 (ipykernel)",
   "language": "python",
   "name": "python3"
  },
  "language_info": {
   "codemirror_mode": {
    "name": "ipython",
    "version": 3
   },
   "file_extension": ".py",
   "mimetype": "text/x-python",
   "name": "python",
   "nbconvert_exporter": "python",
   "pygments_lexer": "ipython3",
   "version": "3.11.5"
  }
 },
 "nbformat": 4,
 "nbformat_minor": 2
}
