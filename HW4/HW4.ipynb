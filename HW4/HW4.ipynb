{
 "cells": [
  {
   "cell_type": "markdown",
   "metadata": {},
   "source": [
    "# Question 1"
   ]
  },
  {
   "cell_type": "code",
   "execution_count": 2,
   "metadata": {},
   "outputs": [],
   "source": [
    "num_nodes = 7"
   ]
  },
  {
   "cell_type": "code",
   "execution_count": 3,
   "metadata": {},
   "outputs": [],
   "source": [
    "origin = 1"
   ]
  },
  {
   "cell_type": "code",
   "execution_count": 4,
   "metadata": {},
   "outputs": [],
   "source": [
    "destination = 7"
   ]
  },
  {
   "cell_type": "code",
   "execution_count": 5,
   "metadata": {},
   "outputs": [],
   "source": [
    "import gurobipy as gp\n",
    "from gurobipy import GRB"
   ]
  },
  {
   "cell_type": "code",
   "execution_count": 6,
   "metadata": {},
   "outputs": [],
   "source": [
    "paths,cost = gp.multidict(\n",
    "{(1, 2): 5,\n",
    " (1, 3): 13,\n",
    " (1, 5): 45,\n",
    " (1, 7): 105,\n",
    " (2, 3): 27,\n",
    " (2, 4): 19,\n",
    " (2, 5): 50,\n",
    " (2, 7): 95,\n",
    " (3, 4): 14,\n",
    " (3, 5): 30,\n",
    " (3, 6): 32,\n",
    " (4, 3): 14,\n",
    " (4, 5): 35,\n",
    " (4, 6): 24,\n",
    " (5, 4): 35,\n",
    " (5, 6): 18,\n",
    " (5, 7): 25,\n",
    " (6, 4): 24,\n",
    " (6, 5): 18,\n",
    " (6, 7): 17,\n",
    "})\n"
   ]
  },
  {
   "cell_type": "code",
   "execution_count": 7,
   "metadata": {},
   "outputs": [
    {
     "name": "stdout",
     "output_type": "stream",
     "text": [
      "Restricted license - for non-production use only - expires 2025-11-24\n"
     ]
    }
   ],
   "source": [
    "mCost = gp.Model('costMin')"
   ]
  },
  {
   "cell_type": "code",
   "execution_count": 8,
   "metadata": {},
   "outputs": [],
   "source": [
    "pathC = mCost.addVars(paths, obj=cost) # pathT is X_ij and time is C_ijS\n"
   ]
  },
  {
   "cell_type": "code",
   "execution_count": 9,
   "metadata": {},
   "outputs": [],
   "source": [
    "for i in range(1, num_nodes+1):\n",
    "    mCost.addConstr(sum(pathC[i,j] for i,j in paths.select(i, '*'))  \n",
    "                - sum(pathC[j,i] for j,i in paths.select('*',i))\n",
    "                == (1 if i == origin else -1 if i == destination else 0 ))"
   ]
  },
  {
   "cell_type": "code",
   "execution_count": 10,
   "metadata": {},
   "outputs": [],
   "source": [
    "# Verify model formulation\n",
    "\n",
    "mCost.write('shortestpath.lp')"
   ]
  },
  {
   "cell_type": "code",
   "execution_count": 11,
   "metadata": {},
   "outputs": [
    {
     "name": "stdout",
     "output_type": "stream",
     "text": [
      "Gurobi Optimizer version 11.0.1 build v11.0.1rc0 (win64 - Windows 10.0 (19045.2))\n",
      "\n",
      "CPU model: AMD Ryzen 9 5900HS with Radeon Graphics, instruction set [SSE2|AVX|AVX2]\n",
      "Thread count: 8 physical cores, 16 logical processors, using up to 16 threads\n",
      "\n",
      "Optimize a model with 7 rows, 20 columns and 40 nonzeros\n",
      "Model fingerprint: 0x6b32da78\n",
      "Coefficient statistics:\n",
      "  Matrix range     [1e+00, 1e+00]\n",
      "  Objective range  [5e+00, 1e+02]\n",
      "  Bounds range     [0e+00, 0e+00]\n",
      "  RHS range        [1e+00, 1e+00]\n",
      "Presolve removed 1 rows and 1 columns\n",
      "Presolve time: 0.00s\n",
      "Presolved: 6 rows, 19 columns, 38 nonzeros\n",
      "\n",
      "Iteration    Objective       Primal Inf.    Dual Inf.      Time\n",
      "       0    1.3000000e+01   2.000000e+00   0.000000e+00      0s\n",
      "       4    6.2000000e+01   0.000000e+00   0.000000e+00      0s\n",
      "\n",
      "Solved in 4 iterations and 0.01 seconds (0.00 work units)\n",
      "Optimal objective  6.200000000e+01\n"
     ]
    }
   ],
   "source": [
    "mCost.optimize()"
   ]
  },
  {
   "cell_type": "markdown",
   "metadata": {},
   "source": [
    "We want to print the variables with a value of greater than 0 because this is the tuple that gurobi's optimization says we should take"
   ]
  },
  {
   "cell_type": "code",
   "execution_count": 12,
   "metadata": {
    "scrolled": true
   },
   "outputs": [
    {
     "name": "stdout",
     "output_type": "stream",
     "text": [
      "The path with the least time is:\n",
      "1 3 : 1.0\n",
      "3 6 : 1.0\n",
      "6 7 : 1.0\n",
      "Total Cost: 62.0\n"
     ]
    }
   ],
   "source": [
    "print('The path with the least cost is:')\n",
    "for i,j in paths:\n",
    "    if(pathC[i,j].x > 0):\n",
    "        print(i, j, \":\", pathC[i,j].x)\n",
    "print('Total Cost: ' + str(mCost.objVal))"
   ]
  },
  {
   "cell_type": "markdown",
   "metadata": {},
   "source": [
    "# Question 2"
   ]
  },
  {
   "cell_type": "markdown",
   "metadata": {},
   "source": [
    "## B"
   ]
  },
  {
   "cell_type": "code",
   "execution_count": 13,
   "metadata": {},
   "outputs": [],
   "source": [
    "supply_demand = dict({'1': -1300,\n",
    "                      '2': -1200,\n",
    "                      '3': 300, \n",
    "                      '4': 200,\n",
    "                      '5': 800,\n",
    "                      '6': 700,\n",
    "                      '7': 400})\n",
    "\n",
    "# Create a dictionary to capture shipping costs.\n",
    "\n",
    "arcs, cost = gp.multidict({\n",
    "    ('1', '3'): 3,\n",
    "    ('1', '4'): 4,\n",
    "    ('2', '3'): 3,\n",
    "    ('2', '4'): 4,\n",
    "    ('3', '4'): 7,\n",
    "    ('3', '5'): 9,\n",
    "    ('3', '6'): 6,\n",
    "    ('4', '3'): 7,\n",
    "    ('4', '6'): 4,\n",
    "    ('4', '7'): 8,\n",
    "    ('5', '6'): 3,\n",
    "    ('6', '7'): 2,\n",
    "})"
   ]
  },
  {
   "cell_type": "code",
   "execution_count": 14,
   "metadata": {},
   "outputs": [],
   "source": [
    "mCost = gp.Model('costMin')"
   ]
  },
  {
   "cell_type": "code",
   "execution_count": 15,
   "metadata": {},
   "outputs": [],
   "source": [
    "pathC = mCost.addVars(arcs, obj=cost) "
   ]
  },
  {
   "cell_type": "code",
   "execution_count": 16,
   "metadata": {},
   "outputs": [],
   "source": [
    "flow = mCost.addConstrs((gp.quicksum(pathC.select('*', city)) - gp.quicksum(pathC.select(city, '*')) >= supply_demand[city]\n",
    "                                  for city in supply_demand.keys()), name=\"customer\")"
   ]
  },
  {
   "cell_type": "code",
   "execution_count": 17,
   "metadata": {},
   "outputs": [],
   "source": [
    "# Verify model formulation\n",
    "\n",
    "mCost.write('shortestpath2.lp')"
   ]
  },
  {
   "cell_type": "code",
   "execution_count": 18,
   "metadata": {},
   "outputs": [
    {
     "name": "stdout",
     "output_type": "stream",
     "text": [
      "Gurobi Optimizer version 11.0.1 build v11.0.1rc0 (win64 - Windows 10.0 (19045.2))\n",
      "\n",
      "CPU model: AMD Ryzen 9 5900HS with Radeon Graphics, instruction set [SSE2|AVX|AVX2]\n",
      "Thread count: 8 physical cores, 16 logical processors, using up to 16 threads\n",
      "\n",
      "Optimize a model with 7 rows, 12 columns and 24 nonzeros\n",
      "Model fingerprint: 0xee94a2cc\n",
      "Coefficient statistics:\n",
      "  Matrix range     [1e+00, 1e+00]\n",
      "  Objective range  [2e+00, 9e+00]\n",
      "  Bounds range     [0e+00, 0e+00]\n",
      "  RHS range        [2e+02, 1e+03]\n",
      "Presolve removed 1 rows and 2 columns\n",
      "Presolve time: 0.01s\n",
      "Presolved: 6 rows, 10 columns, 20 nonzeros\n",
      "\n",
      "Iteration    Objective       Primal Inf.    Dual Inf.      Time\n",
      "       0    7.2000000e+03   1.262500e+03   0.000000e+00      0s\n",
      "       5    2.0900000e+04   0.000000e+00   0.000000e+00      0s\n",
      "\n",
      "Solved in 5 iterations and 0.01 seconds (0.00 work units)\n",
      "Optimal objective  2.090000000e+04\n"
     ]
    }
   ],
   "source": [
    "mCost.optimize()"
   ]
  },
  {
   "cell_type": "code",
   "execution_count": 19,
   "metadata": {},
   "outputs": [
    {
     "name": "stdout",
     "output_type": "stream",
     "text": [
      "The path with the least time is:\n",
      "1 3 : 1100.0\n",
      "1 4 : 100.0\n",
      "2 4 : 1200.0\n",
      "3 5 : 800.0\n",
      "4 6 : 1100.0\n",
      "6 7 : 400.0\n",
      "Total Cost: 20900.0\n"
     ]
    }
   ],
   "source": [
    "print('The path with the least cost is:')\n",
    "for i,j in arcs:\n",
    "    if(pathC[i,j].x > 0):\n",
    "        print(i, j, \":\", pathC[i,j].x)\n",
    "print('Total Cost: ' + str(mCost.objVal))"
   ]
  },
  {
   "cell_type": "markdown",
   "metadata": {},
   "source": [
    "## C\n",
    "Suppose that no more than 1,000 units of blood can be transported over any one arc. What is the optimal solution to this revised problem?"
   ]
  },
  {
   "cell_type": "code",
   "execution_count": 20,
   "metadata": {},
   "outputs": [
    {
     "data": {
      "text/plain": [
       "{('1', '3'): <gurobi.Constr *Awaiting Model Update*>,\n",
       " ('1', '4'): <gurobi.Constr *Awaiting Model Update*>,\n",
       " ('2', '3'): <gurobi.Constr *Awaiting Model Update*>,\n",
       " ('2', '4'): <gurobi.Constr *Awaiting Model Update*>,\n",
       " ('3', '4'): <gurobi.Constr *Awaiting Model Update*>,\n",
       " ('3', '5'): <gurobi.Constr *Awaiting Model Update*>,\n",
       " ('3', '6'): <gurobi.Constr *Awaiting Model Update*>,\n",
       " ('4', '3'): <gurobi.Constr *Awaiting Model Update*>,\n",
       " ('4', '6'): <gurobi.Constr *Awaiting Model Update*>,\n",
       " ('4', '7'): <gurobi.Constr *Awaiting Model Update*>,\n",
       " ('5', '6'): <gurobi.Constr *Awaiting Model Update*>,\n",
       " ('6', '7'): <gurobi.Constr *Awaiting Model Update*>}"
      ]
     },
     "execution_count": 20,
     "metadata": {},
     "output_type": "execute_result"
    }
   ],
   "source": [
    "mCost.addConstrs((pathC[i,j] <= 1000 for i,j in pathC), name=\"path_capacity\")"
   ]
  },
  {
   "cell_type": "code",
   "execution_count": 21,
   "metadata": {},
   "outputs": [],
   "source": [
    "# Verify model formulation\n",
    "\n",
    "mCost.write('shortestpath3.lp')"
   ]
  },
  {
   "cell_type": "code",
   "execution_count": 22,
   "metadata": {},
   "outputs": [
    {
     "name": "stdout",
     "output_type": "stream",
     "text": [
      "Gurobi Optimizer version 11.0.1 build v11.0.1rc0 (win64 - Windows 10.0 (19045.2))\n",
      "\n",
      "CPU model: AMD Ryzen 9 5900HS with Radeon Graphics, instruction set [SSE2|AVX|AVX2]\n",
      "Thread count: 8 physical cores, 16 logical processors, using up to 16 threads\n",
      "\n",
      "Optimize a model with 19 rows, 12 columns and 36 nonzeros\n",
      "Coefficient statistics:\n",
      "  Matrix range     [1e+00, 1e+00]\n",
      "  Objective range  [2e+00, 9e+00]\n",
      "  Bounds range     [0e+00, 0e+00]\n",
      "  RHS range        [2e+02, 1e+03]\n",
      "LP warm-start: use basis\n",
      "Iteration    Objective       Primal Inf.    Dual Inf.      Time\n",
      "       0    2.0900000e+04   4.000000e+02   0.000000e+00      0s\n",
      "       3    2.1000000e+04   0.000000e+00   0.000000e+00      0s\n",
      "\n",
      "Solved in 3 iterations and 0.01 seconds (0.00 work units)\n",
      "Optimal objective  2.100000000e+04\n"
     ]
    }
   ],
   "source": [
    "mCost.optimize()"
   ]
  },
  {
   "cell_type": "code",
   "execution_count": 53,
   "metadata": {},
   "outputs": [
    {
     "name": "stdout",
     "output_type": "stream",
     "text": [
      "The path with the least cost is:\n",
      "1 2 : 275.0\n",
      "1 3 : 650.0\n",
      "1 4 : 700.0\n",
      "2 5 : 275.0\n",
      "3 4 : 25.0\n",
      "3 5 : 625.0\n",
      "4 6 : 725.0\n",
      "5 6 : 900.0\n",
      "6 1 : 1625.0\n",
      "Total Cost: 21000.0\n"
     ]
    }
   ],
   "source": [
    "print('The path with the least cost is:')\n",
    "for i,j in arcs:\n",
    "    if(pathC[i,j].x > 0):\n",
    "        print(i, j, \":\", pathC[i,j].x)\n",
    "print('Total Cost: ' + str(mCost.objVal))"
   ]
  },
  {
   "cell_type": "markdown",
   "metadata": {},
   "source": [
    "# Question 3"
   ]
  },
  {
   "cell_type": "code",
   "execution_count": 43,
   "metadata": {},
   "outputs": [],
   "source": [
    "arcs, call = gp.multidict({\n",
    "    (1, 2): 800,\n",
    "    (1, 3): 650,\n",
    "    (1, 4): 700,\n",
    "    (2, 4): 725,\n",
    "    (2, 5): 700,\n",
    "    (3, 4): 625,\n",
    "    (3, 5): 750,\n",
    "    (4, 6): 725,\n",
    "    (5, 6): 900,\n",
    "    (6, 1): GRB.INFINITY\n",
    "})"
   ]
  },
  {
   "cell_type": "code",
   "execution_count": 44,
   "metadata": {},
   "outputs": [],
   "source": [
    "mCall = gp.Model('callMax')"
   ]
  },
  {
   "cell_type": "code",
   "execution_count": 45,
   "metadata": {},
   "outputs": [],
   "source": [
    "pathC = mCall.addVars(arcs) "
   ]
  },
  {
   "cell_type": "code",
   "execution_count": 47,
   "metadata": {},
   "outputs": [],
   "source": [
    "mCall.setObjective(pathC[(6, 1)] , GRB.MAXIMIZE)"
   ]
  },
  {
   "cell_type": "code",
   "execution_count": 49,
   "metadata": {},
   "outputs": [],
   "source": [
    "for i in range(1,7):\n",
    "    mCall.addConstr(sum(pathC[i,j] for i,j in arcs.select(i, '*'))  \n",
    "                - sum(pathC[j,i] for j,i in arcs.select('*',i))\n",
    "                == 0, name='supply_demand')"
   ]
  },
  {
   "cell_type": "code",
   "execution_count": 50,
   "metadata": {},
   "outputs": [
    {
     "data": {
      "text/plain": [
       "{(1, 2): <gurobi.Constr *Awaiting Model Update*>,\n",
       " (1, 3): <gurobi.Constr *Awaiting Model Update*>,\n",
       " (1, 4): <gurobi.Constr *Awaiting Model Update*>,\n",
       " (2, 4): <gurobi.Constr *Awaiting Model Update*>,\n",
       " (2, 5): <gurobi.Constr *Awaiting Model Update*>,\n",
       " (3, 4): <gurobi.Constr *Awaiting Model Update*>,\n",
       " (3, 5): <gurobi.Constr *Awaiting Model Update*>,\n",
       " (4, 6): <gurobi.Constr *Awaiting Model Update*>,\n",
       " (5, 6): <gurobi.Constr *Awaiting Model Update*>,\n",
       " (6, 1): <gurobi.Constr *Awaiting Model Update*>}"
      ]
     },
     "execution_count": 50,
     "metadata": {},
     "output_type": "execute_result"
    }
   ],
   "source": [
    "mCall.addConstrs((pathC[i,j] <= call[i,j] for i,j in pathC), name=\"path_capacity\")"
   ]
  },
  {
   "cell_type": "code",
   "execution_count": 51,
   "metadata": {},
   "outputs": [
    {
     "name": "stdout",
     "output_type": "stream",
     "text": [
      "Warning: linear constraint 0 and linear constraint 1 have the same name \"supply_demand\"\n"
     ]
    }
   ],
   "source": [
    "# Verify model formulation\n",
    "\n",
    "mCall.write('shortestpath4.lp')"
   ]
  },
  {
   "cell_type": "code",
   "execution_count": 52,
   "metadata": {},
   "outputs": [
    {
     "name": "stdout",
     "output_type": "stream",
     "text": [
      "Gurobi Optimizer version 11.0.1 build v11.0.1rc0 (win64 - Windows 10.0 (19045.2))\n",
      "\n",
      "CPU model: AMD Ryzen 9 5900HS with Radeon Graphics, instruction set [SSE2|AVX|AVX2]\n",
      "Thread count: 8 physical cores, 16 logical processors, using up to 16 threads\n",
      "\n",
      "Optimize a model with 16 rows, 10 columns and 30 nonzeros\n",
      "Model fingerprint: 0xb136dda9\n",
      "Coefficient statistics:\n",
      "  Matrix range     [1e+00, 1e+00]\n",
      "  Objective range  [1e+00, 1e+00]\n",
      "  Bounds range     [0e+00, 0e+00]\n",
      "  RHS range        [6e+02, 1e+100]\n",
      "Warning: Model contains large rhs\n",
      "         Consider reformulating model or setting NumericFocus parameter\n",
      "         to avoid numerical issues.\n",
      "Presolve removed 12 rows and 1 columns\n",
      "Presolve time: 0.00s\n",
      "Presolved: 4 rows, 9 columns, 14 nonzeros\n",
      "\n",
      "Iteration    Objective       Primal Inf.    Dual Inf.      Time\n",
      "       0    1.6250000e+03   2.531250e+02   0.000000e+00      0s\n",
      "       3    1.6250000e+03   0.000000e+00   0.000000e+00      0s\n",
      "\n",
      "Solved in 3 iterations and 0.01 seconds (0.00 work units)\n",
      "Optimal objective  1.625000000e+03\n"
     ]
    }
   ],
   "source": [
    "mCall.optimize()"
   ]
  },
  {
   "cell_type": "code",
   "execution_count": 55,
   "metadata": {},
   "outputs": [
    {
     "name": "stdout",
     "output_type": "stream",
     "text": [
      "The path with the max flow is:\n",
      "1 2 : 275.0\n",
      "1 3 : 650.0\n",
      "1 4 : 700.0\n",
      "2 5 : 275.0\n",
      "3 4 : 25.0\n",
      "3 5 : 625.0\n",
      "4 6 : 725.0\n",
      "5 6 : 900.0\n",
      "6 1 : 1625.0\n",
      "Total Cost: 1625.0\n"
     ]
    }
   ],
   "source": [
    "print('The path with the max flow is:')\n",
    "for i,j in arcs:\n",
    "    if(pathC[i,j].x > 0):\n",
    "        print(i, j, \":\", pathC[i,j].x)\n",
    "print('Total Cost: ' + str(mCall.objVal))"
   ]
  }
 ],
 "metadata": {
  "kernelspec": {
   "display_name": "Python 3 (ipykernel)",
   "language": "python",
   "name": "python3"
  },
  "language_info": {
   "codemirror_mode": {
    "name": "ipython",
    "version": 3
   },
   "file_extension": ".py",
   "mimetype": "text/x-python",
   "name": "python",
   "nbconvert_exporter": "python",
   "pygments_lexer": "ipython3",
   "version": "3.11.5"
  }
 },
 "nbformat": 4,
 "nbformat_minor": 2
}
