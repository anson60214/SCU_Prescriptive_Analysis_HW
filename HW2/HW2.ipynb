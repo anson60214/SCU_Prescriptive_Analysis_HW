{
 "cells": [
  {
   "cell_type": "markdown",
   "metadata": {},
   "source": [
    "# Question 1:"
   ]
  },
  {
   "cell_type": "code",
   "execution_count": 126,
   "metadata": {},
   "outputs": [],
   "source": [
    "from gurobipy import *\n",
    "import gurobipy as gp\n",
    "\n",
    "import pandas as pd"
   ]
  },
  {
   "cell_type": "code",
   "execution_count": 81,
   "metadata": {},
   "outputs": [],
   "source": [
    "cards, profit = gp.multidict({\n",
    "    'HyperLink' : 53,\n",
    "    'FastLink'  : 48,\n",
    "    'SpeedLink' : 33,\n",
    "    'MicroLink' : 32,\n",
    "    'EtherLink' : 38\n",
    "})\n",
    "\n",
    "devices, devices_lower_bound, devices_upper_bound = gp.multidict({\n",
    "    'Circuit'  :  [0, 80000],\n",
    "    'Resistors':  [0, 100000],\n",
    "    'Memory'   :  [0, 30000],\n",
    "    'Labor'    :  [0, 5000]\n",
    "})\n",
    "\n",
    "device_value = {\n",
    "    ('HyperLink', 'Circuit'): 20,\n",
    "    ('HyperLink', 'Resistors'): 28,\n",
    "    ('HyperLink', 'Memory'): 8,\n",
    "    ('HyperLink', 'Labor'): 0.75,\n",
    "    ('FastLink', 'Circuit'): 15,\n",
    "    ('FastLink', 'Resistors'): 24,\n",
    "    ('FastLink', 'Memory'): 8,\n",
    "    ('FastLink', 'Labor'): 0.6,\n",
    "    ('SpeedLink', 'Circuit'): 10,\n",
    "    ('SpeedLink', 'Resistors'): 18,\n",
    "    ('SpeedLink', 'Memory'): 4,\n",
    "    ('SpeedLink', 'Labor'): 0.5,\n",
    "    ('MicroLink', 'Circuit'): 8,\n",
    "    ('MicroLink', 'Resistors'): 12,\n",
    "    ('MicroLink', 'Memory'): 4,\n",
    "    ('MicroLink', 'Labor'): 0.65,\n",
    "    ('EtherLink', 'Circuit'): 5,\n",
    "    ('EtherLink', 'Resistors'): 16,\n",
    "    ('EtherLink', 'Memory'): 6,\n",
    "    ('EtherLink', 'Labor'): 1\n",
    "}"
   ]
  },
  {
   "cell_type": "code",
   "execution_count": 82,
   "metadata": {},
   "outputs": [],
   "source": [
    "Link = Model('Interface cards')"
   ]
  },
  {
   "cell_type": "markdown",
   "metadata": {},
   "source": [
    "## Objective Function"
   ]
  },
  {
   "cell_type": "code",
   "execution_count": 83,
   "metadata": {},
   "outputs": [],
   "source": [
    "number = Link.addVars(cards, name=\"number\")"
   ]
  },
  {
   "cell_type": "code",
   "execution_count": 84,
   "metadata": {},
   "outputs": [],
   "source": [
    "Link.setObjective(number.prod(profit), GRB.MAXIMIZE)"
   ]
  },
  {
   "cell_type": "code",
   "execution_count": 85,
   "metadata": {},
   "outputs": [
    {
     "data": {
      "text/plain": [
       "{'Circuit': <gurobi.Constr *Awaiting Model Update*>,\n",
       " 'Resistors': <gurobi.Constr *Awaiting Model Update*>,\n",
       " 'Memory': <gurobi.Constr *Awaiting Model Update*>,\n",
       " 'Labor': <gurobi.Constr *Awaiting Model Update*>}"
      ]
     },
     "execution_count": 85,
     "metadata": {},
     "output_type": "execute_result"
    }
   ],
   "source": [
    "Link.addConstrs((gp.quicksum(device_value[c, d] * number[c] for c in cards)\\\n",
    "                 == [devices_lower_bound[d], devices_upper_bound[d]]\\\n",
    "                      for d in devices), \"_\")"
   ]
  },
  {
   "cell_type": "code",
   "execution_count": 86,
   "metadata": {},
   "outputs": [
    {
     "data": {
      "text/plain": [
       "{'HyperLink': <gurobi.Constr *Awaiting Model Update*>,\n",
       " 'FastLink': <gurobi.Constr *Awaiting Model Update*>,\n",
       " 'SpeedLink': <gurobi.Constr *Awaiting Model Update*>,\n",
       " 'MicroLink': <gurobi.Constr *Awaiting Model Update*>,\n",
       " 'EtherLink': <gurobi.Constr *Awaiting Model Update*>}"
      ]
     },
     "execution_count": 86,
     "metadata": {},
     "output_type": "execute_result"
    }
   ],
   "source": [
    "# Add the constraint that each variable must be greater than 500\n",
    "Link.addConstrs(number[c] >= 500 for c in cards)"
   ]
  },
  {
   "cell_type": "code",
   "execution_count": 87,
   "metadata": {},
   "outputs": [
    {
     "data": {
      "text/plain": [
       "<gurobi.Constr *Awaiting Model Update*>"
      ]
     },
     "execution_count": 87,
     "metadata": {},
     "output_type": "execute_result"
    }
   ],
   "source": [
    "Link.addConstr(2 * number['HyperLink'] <= number['FastLink'])"
   ]
  },
  {
   "cell_type": "code",
   "execution_count": 88,
   "metadata": {},
   "outputs": [],
   "source": [
    "Link.write('InterfaceCards.lp')"
   ]
  },
  {
   "cell_type": "code",
   "execution_count": 89,
   "metadata": {},
   "outputs": [],
   "source": [
    "def printSolution():\n",
    "    if Link.status == GRB.OPTIMAL:\n",
    "        print('\\nProfit: %g' % Link.objVal)\n",
    "        print('\\nnumber:')\n",
    "        for c in cards:\n",
    "            if number[c].x > 0.0001:\n",
    "                print('%s %g' % (c, number[c].x))\n",
    "    else:\n",
    "        print('No solution')"
   ]
  },
  {
   "cell_type": "code",
   "execution_count": 90,
   "metadata": {},
   "outputs": [
    {
     "name": "stdout",
     "output_type": "stream",
     "text": [
      "Gurobi Optimizer version 11.0.1 build v11.0.1rc0 (win64 - Windows 10.0 (19045.2))\n",
      "\n",
      "CPU model: AMD Ryzen 9 5900HS with Radeon Graphics, instruction set [SSE2|AVX|AVX2]\n",
      "Thread count: 8 physical cores, 16 logical processors, using up to 16 threads\n",
      "\n",
      "Optimize a model with 10 rows, 9 columns and 31 nonzeros\n",
      "Model fingerprint: 0xc30dd8ff\n",
      "Coefficient statistics:\n",
      "  Matrix range     [5e-01, 3e+01]\n",
      "  Objective range  [3e+01, 5e+01]\n",
      "  Bounds range     [5e+03, 1e+05]\n",
      "  RHS range        [5e+02, 1e+05]\n",
      "Presolve removed 5 rows and 4 columns\n",
      "Presolve time: 0.00s\n",
      "Presolved: 5 rows, 5 columns, 22 nonzeros\n",
      "\n",
      "Iteration    Objective       Primal Inf.    Dual Inf.      Time\n",
      "       0    4.5660000e+05   1.167975e+04   0.000000e+00      0s\n",
      "       3    2.1500000e+05   0.000000e+00   0.000000e+00      0s\n",
      "\n",
      "Solved in 3 iterations and 0.01 seconds (0.00 work units)\n",
      "Optimal objective  2.150000000e+05\n",
      "\n",
      "Profit: 215000\n",
      "\n",
      "number:\n",
      "HyperLink 500\n",
      "FastLink 1000\n",
      "SpeedLink 1500\n",
      "MicroLink 2250\n",
      "EtherLink 500\n"
     ]
    }
   ],
   "source": [
    "# Solve\n",
    "Link.optimize()\n",
    "printSolution()"
   ]
  },
  {
   "cell_type": "markdown",
   "metadata": {},
   "source": [
    "## Could Valu-Com make more money if it schedules assembly workers to work overtime?"
   ]
  },
  {
   "cell_type": "code",
   "execution_count": 93,
   "metadata": {},
   "outputs": [
    {
     "data": {
      "text/plain": [
       "{'Circuit': <gurobi.Constr *Awaiting Model Update*>,\n",
       " 'Resistors': <gurobi.Constr *Awaiting Model Update*>,\n",
       " 'Memory': <gurobi.Constr *Awaiting Model Update*>,\n",
       " 'Labor': <gurobi.Constr *Awaiting Model Update*>}"
      ]
     },
     "execution_count": 93,
     "metadata": {},
     "output_type": "execute_result"
    }
   ],
   "source": [
    "devices, devices_lower_bound, devices_upper_bound = gp.multidict({\n",
    "    'Circuit'  :  [0, 80000],\n",
    "    'Resistors':  [0, 100000],\n",
    "    'Memory'   :  [0, 30000],\n",
    "    'Labor'    :  [0, GRB.INFINITY]\n",
    "})\n",
    "Link.addConstrs((gp.quicksum(device_value[c, d] * number[c] for c in cards)\\\n",
    "                 == [devices_lower_bound[d], devices_upper_bound[d]]\\\n",
    "                      for d in devices), \"_\")"
   ]
  },
  {
   "cell_type": "code",
   "execution_count": 94,
   "metadata": {},
   "outputs": [
    {
     "name": "stdout",
     "output_type": "stream",
     "text": [
      "Gurobi Optimizer version 11.0.1 build v11.0.1rc0 (win64 - Windows 10.0 (19045.2))\n",
      "\n",
      "CPU model: AMD Ryzen 9 5900HS with Radeon Graphics, instruction set [SSE2|AVX|AVX2]\n",
      "Thread count: 8 physical cores, 16 logical processors, using up to 16 threads\n",
      "\n",
      "Optimize a model with 14 rows, 12 columns and 54 nonzeros\n",
      "Coefficient statistics:\n",
      "  Matrix range     [5e-01, 3e+01]\n",
      "  Objective range  [3e+01, 5e+01]\n",
      "  Bounds range     [5e+03, 1e+05]\n",
      "  RHS range        [5e+02, 1e+05]\n",
      "LP warm-start: use basis\n",
      "Iteration    Objective       Primal Inf.    Dual Inf.      Time\n",
      "       0    2.1500000e+05   0.000000e+00   0.000000e+00      0s\n",
      "\n",
      "Solved in 0 iterations and 0.00 seconds (0.00 work units)\n",
      "Optimal objective  2.150000000e+05\n",
      "\n",
      "Profit: 215000\n",
      "\n",
      "number:\n",
      "HyperLink 500\n",
      "FastLink 1000\n",
      "SpeedLink 1500\n",
      "MicroLink 2250\n",
      "EtherLink 500\n"
     ]
    }
   ],
   "source": [
    "# Solve\n",
    "Link.optimize()\n",
    "printSolution()"
   ]
  },
  {
   "cell_type": "markdown",
   "metadata": {},
   "source": [
    "It is same as the amount without this extra constraint which is still 215000.\n",
    "therefore, if it schedules assmebly workers to work overtime, it does not change the total profit.\n",
    "Because if u increase # of hours the profit stays the same"
   ]
  },
  {
   "cell_type": "markdown",
   "metadata": {},
   "source": [
    "# Question 2"
   ]
  },
  {
   "cell_type": "code",
   "execution_count": 151,
   "metadata": {},
   "outputs": [],
   "source": [
    "supply_locs, supply = gp.multidict({\n",
    "    'Location 1': 16,\n",
    "    'Location 2': 18\n",
    "    })\n",
    "\n",
    "demand_locs, demand_lower, demand_upper = gp.multidict({\n",
    "    'Location 3': [5,10],\n",
    "    'Location 4': [5,10],\n",
    "    'Location 5': [5,10],\n",
    "    'Location 6': [5,10]\n",
    "    })\n",
    "\n",
    "arcs, cost = gp.multidict({\n",
    "    ('Location 1', 'Location 3'): 54,\n",
    "    ('Location 1', 'Location 4'): 17,\n",
    "    ('Location 1', 'Location 5'): 23,\n",
    "    ('Location 1', 'Location 6'): 30,\n",
    "    ('Location 2', 'Location 3'): 24,\n",
    "    ('Location 2', 'Location 4'): 18,\n",
    "    ('Location 2', 'Location 5'): 19,\n",
    "    ('Location 2', 'Location 6'): 31,\n",
    "})"
   ]
  },
  {
   "cell_type": "markdown",
   "metadata": {},
   "source": [
    "## Objective Function"
   ]
  },
  {
   "cell_type": "code",
   "execution_count": 152,
   "metadata": {},
   "outputs": [],
   "source": [
    "car = gp.Model('Transshipment')\n",
    "flow = car.addVars(arcs, obj=cost, name=\"flow\")"
   ]
  },
  {
   "cell_type": "code",
   "execution_count": 153,
   "metadata": {},
   "outputs": [],
   "source": [
    "demand_flow = car.addConstrs((gp.quicksum(flow.select(\"*\", d_loc)) \\\n",
    "                             == [demand_lower[d_loc], demand_upper[d_loc]]\\\n",
    "                                for d_loc in demand_locs), \"_\") \n",
    "\n"
   ]
  },
  {
   "cell_type": "code",
   "execution_count": 154,
   "metadata": {},
   "outputs": [],
   "source": [
    "supply_flow = car.addConstrs((gp.quicksum(flow.select(s_loc, '*')) \\\n",
    "                               == supply[s_loc]\\\n",
    "                                for s_loc in supply_locs), \"_\") "
   ]
  },
  {
   "cell_type": "code",
   "execution_count": 155,
   "metadata": {},
   "outputs": [
    {
     "name": "stdout",
     "output_type": "stream",
     "text": [
      "Warning: variable name \"flow[Location 1,Location 3]\" has a space\n",
      "Warning: constraint name \"Location 3\" has a space\n",
      "Warning: to let Gurobi read it back, use rlp format\n"
     ]
    }
   ],
   "source": [
    "car.write('Transshipment.lp')"
   ]
  },
  {
   "cell_type": "code",
   "execution_count": 156,
   "metadata": {},
   "outputs": [
    {
     "name": "stdout",
     "output_type": "stream",
     "text": [
      "Gurobi Optimizer version 11.0.1 build v11.0.1rc0 (win64 - Windows 10.0 (19045.2))\n",
      "\n",
      "CPU model: AMD Ryzen 9 5900HS with Radeon Graphics, instruction set [SSE2|AVX|AVX2]\n",
      "Thread count: 8 physical cores, 16 logical processors, using up to 16 threads\n",
      "\n",
      "Optimize a model with 6 rows, 12 columns and 20 nonzeros\n",
      "Model fingerprint: 0x9bdc6bc1\n",
      "Coefficient statistics:\n",
      "  Matrix range     [1e+00, 1e+00]\n",
      "  Objective range  [2e+01, 5e+01]\n",
      "  Bounds range     [5e+00, 5e+00]\n",
      "  RHS range        [1e+01, 2e+01]\n",
      "Presolve time: 0.00s\n",
      "Presolved: 6 rows, 12 columns, 20 nonzeros\n",
      "\n",
      "Iteration    Objective       Primal Inf.    Dual Inf.      Time\n",
      "       0    0.0000000e+00   4.400000e+01   0.000000e+00      0s\n",
      "       7    7.3000000e+02   0.000000e+00   0.000000e+00      0s\n",
      "\n",
      "Solved in 7 iterations and 0.01 seconds (0.00 work units)\n",
      "Optimal objective  7.300000000e+02\n"
     ]
    }
   ],
   "source": [
    "car.optimize()"
   ]
  },
  {
   "cell_type": "code",
   "execution_count": 157,
   "metadata": {},
   "outputs": [
    {
     "data": {
      "text/html": [
       "<div>\n",
       "<style scoped>\n",
       "    .dataframe tbody tr th:only-of-type {\n",
       "        vertical-align: middle;\n",
       "    }\n",
       "\n",
       "    .dataframe tbody tr th {\n",
       "        vertical-align: top;\n",
       "    }\n",
       "\n",
       "    .dataframe thead th {\n",
       "        text-align: right;\n",
       "    }\n",
       "</style>\n",
       "<table border=\"1\" class=\"dataframe\">\n",
       "  <thead>\n",
       "    <tr style=\"text-align: right;\">\n",
       "      <th></th>\n",
       "      <th>From</th>\n",
       "      <th>To</th>\n",
       "      <th>Flow</th>\n",
       "    </tr>\n",
       "  </thead>\n",
       "  <tbody>\n",
       "    <tr>\n",
       "      <th></th>\n",
       "      <td>Location 1</td>\n",
       "      <td>Location 4</td>\n",
       "      <td>10.0</td>\n",
       "    </tr>\n",
       "    <tr>\n",
       "      <th></th>\n",
       "      <td>Location 1</td>\n",
       "      <td>Location 5</td>\n",
       "      <td>1.0</td>\n",
       "    </tr>\n",
       "    <tr>\n",
       "      <th></th>\n",
       "      <td>Location 1</td>\n",
       "      <td>Location 6</td>\n",
       "      <td>5.0</td>\n",
       "    </tr>\n",
       "    <tr>\n",
       "      <th></th>\n",
       "      <td>Location 2</td>\n",
       "      <td>Location 3</td>\n",
       "      <td>9.0</td>\n",
       "    </tr>\n",
       "    <tr>\n",
       "      <th></th>\n",
       "      <td>Location 2</td>\n",
       "      <td>Location 5</td>\n",
       "      <td>9.0</td>\n",
       "    </tr>\n",
       "  </tbody>\n",
       "</table>\n",
       "</div>"
      ],
      "text/plain": [
       "        From          To  Flow\n",
       "  Location 1  Location 4  10.0\n",
       "  Location 1  Location 5   1.0\n",
       "  Location 1  Location 6   5.0\n",
       "  Location 2  Location 3   9.0\n",
       "  Location 2  Location 5   9.0"
      ]
     },
     "execution_count": 157,
     "metadata": {},
     "output_type": "execute_result"
    }
   ],
   "source": [
    "product_flow = pd.DataFrame(columns=[\"From\", \"To\", \"Flow\"])\n",
    "for arc in arcs:\n",
    "    if flow[arc].x > 1e-6:\n",
    "        product_flow.loc[len(product_flow)] = {\"From\": arc[0], \"To\": arc[1], \"Flow\": flow[arc].x}\n",
    "product_flow.index = [''] * len(product_flow)\n",
    "product_flow"
   ]
  },
  {
   "cell_type": "code",
   "execution_count": 176,
   "metadata": {},
   "outputs": [
    {
     "name": "stdout",
     "output_type": "stream",
     "text": [
      "Total cost of Car Flow: 730.0\n"
     ]
    }
   ],
   "source": [
    "print('Total cost of Car Flow: ' + str(car.objVal))"
   ]
  },
  {
   "cell_type": "markdown",
   "metadata": {},
   "source": [
    "# Question 3"
   ]
  },
  {
   "cell_type": "code",
   "execution_count": 160,
   "metadata": {},
   "outputs": [],
   "source": [
    "Invest = Model('Investments')"
   ]
  },
  {
   "cell_type": "code",
   "execution_count": 163,
   "metadata": {},
   "outputs": [],
   "source": [
    "alist = [1,2,3,4,5,6,7,8]\n",
    "blist = [1,3,5,7]\n",
    "clist = [1,4]\n",
    "dlist = [1]"
   ]
  },
  {
   "cell_type": "code",
   "execution_count": 165,
   "metadata": {},
   "outputs": [],
   "source": [
    "a = Invest.addVars(alist, name=\"A\")\n",
    "b = Invest.addVars(blist, name=\"B\")\n",
    "c = Invest.addVars(clist, name=\"C\")\n",
    "d = Invest.addVars(dlist, name=\"D\")"
   ]
  },
  {
   "cell_type": "markdown",
   "metadata": {},
   "source": [
    "## Objective Function"
   ]
  },
  {
   "cell_type": "code",
   "execution_count": 166,
   "metadata": {},
   "outputs": [],
   "source": [
    "Invest.setObjective(a[1] + b[1] + c[1] + d[1], GRB.MINIMIZE)"
   ]
  },
  {
   "cell_type": "code",
   "execution_count": 169,
   "metadata": {},
   "outputs": [
    {
     "data": {
      "text/plain": [
       "<gurobi.Constr *Awaiting Model Update*>"
      ]
     },
     "execution_count": 169,
     "metadata": {},
     "output_type": "execute_result"
    }
   ],
   "source": [
    "Invest.addConstr(1.06*a[1] == a[2])\n",
    "Invest.addConstr(1.06*a[2] + 1.14*b[1] == a[3] + b[3])\n",
    "Invest.addConstr(1.06*a[3] + 1.18*c[1] == a[4] + c[4])\n",
    "Invest.addConstr(1.06*a[4] + 1.14*b[3] == a[5] + b[5])\n",
    "Invest.addConstr(1.06*a[5] == a[6] + 12000)\n",
    "Invest.addConstr(1.06*a[6] + 1.14*b[5] + 1.18*c[4] == a[7] + b[7] + 14000)\n",
    "Invest.addConstr(1.06*a[7] + 1.65*d[1] == a[8] + 16000)\n",
    "Invest.addConstr(1.06*a[8] + 1.14*b[7] == 18000)"
   ]
  },
  {
   "cell_type": "code",
   "execution_count": 170,
   "metadata": {},
   "outputs": [
    {
     "name": "stdout",
     "output_type": "stream",
     "text": [
      "Warning: variables 0 and 8 have the same name \"A[1]\"\n",
      "Warning: to let Gurobi read it back, use rlp format\n"
     ]
    }
   ],
   "source": [
    "Invest.write('Investments.lp')"
   ]
  },
  {
   "cell_type": "code",
   "execution_count": 171,
   "metadata": {},
   "outputs": [
    {
     "name": "stdout",
     "output_type": "stream",
     "text": [
      "Gurobi Optimizer version 11.0.1 build v11.0.1rc0 (win64 - Windows 10.0 (19045.2))\n",
      "\n",
      "CPU model: AMD Ryzen 9 5900HS with Radeon Graphics, instruction set [SSE2|AVX|AVX2]\n",
      "Thread count: 8 physical cores, 16 logical processors, using up to 16 threads\n",
      "\n",
      "Optimize a model with 17 rows, 23 columns and 54 nonzeros\n",
      "Model fingerprint: 0xc52044d8\n",
      "Coefficient statistics:\n",
      "  Matrix range     [1e+00, 2e+00]\n",
      "  Objective range  [1e+00, 1e+00]\n",
      "  Bounds range     [0e+00, 0e+00]\n",
      "  RHS range        [1e+04, 2e+04]\n",
      "Presolve removed 17 rows and 23 columns\n",
      "Presolve time: 0.00s\n",
      "Presolve: All rows and columns removed\n",
      "Iteration    Objective       Primal Inf.    Dual Inf.      Time\n",
      "       0    3.8149119e+04   0.000000e+00   0.000000e+00      0s\n",
      "\n",
      "Solved in 0 iterations and 0.01 seconds (0.00 work units)\n",
      "Optimal objective  3.814911927e+04\n"
     ]
    }
   ],
   "source": [
    "Invest.optimize()"
   ]
  },
  {
   "cell_type": "code",
   "execution_count": 172,
   "metadata": {},
   "outputs": [
    {
     "name": "stdout",
     "output_type": "stream",
     "text": [
      "A[1] 0.0\n",
      "A[2] 0.0\n",
      "A[3] 0.0\n",
      "A[4] 0.0\n",
      "A[5] 0.0\n",
      "A[6] 0.0\n",
      "A[7] 0.0\n",
      "A[8] 0.0\n",
      "A[1] 0.0\n",
      "A[2] 0.0\n",
      "A[3] 0.0\n",
      "A[4] 0.0\n",
      "A[5] 11320.754716981131\n",
      "A[6] 0.0\n",
      "A[7] 0.0\n",
      "A[8] 16981.132075471698\n",
      "B[1] 18160.554379322177\n",
      "B[3] 20703.03199242728\n",
      "B[5] 12280.701754385966\n",
      "B[7] 0.0\n",
      "C[1] 0.0\n",
      "C[4] 0.0\n",
      "D[1] 19988.564894225274\n"
     ]
    }
   ],
   "source": [
    "for x in Invest.getVars():\n",
    "    print(x.varName, x.x)"
   ]
  },
  {
   "cell_type": "code",
   "execution_count": 173,
   "metadata": {},
   "outputs": [
    {
     "name": "stdout",
     "output_type": "stream",
     "text": [
      "Cash Flow: 38149.11927354745\n"
     ]
    }
   ],
   "source": [
    "print('Cash Flow: ' + str(Invest.objVal))"
   ]
  },
  {
   "cell_type": "code",
   "execution_count": null,
   "metadata": {},
   "outputs": [],
   "source": []
  }
 ],
 "metadata": {
  "kernelspec": {
   "display_name": "base",
   "language": "python",
   "name": "python3"
  },
  "language_info": {
   "codemirror_mode": {
    "name": "ipython",
    "version": 3
   },
   "file_extension": ".py",
   "mimetype": "text/x-python",
   "name": "python",
   "nbconvert_exporter": "python",
   "pygments_lexer": "ipython3",
   "version": "3.11.5"
  }
 },
 "nbformat": 4,
 "nbformat_minor": 2
}
