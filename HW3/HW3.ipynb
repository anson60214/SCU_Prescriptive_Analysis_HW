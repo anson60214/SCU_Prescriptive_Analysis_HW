{
 "cells": [
  {
   "cell_type": "code",
   "execution_count": 4,
   "metadata": {},
   "outputs": [],
   "source": [
    "from gurobipy import *"
   ]
  },
  {
   "cell_type": "markdown",
   "metadata": {},
   "source": [
    "# Question1"
   ]
  },
  {
   "cell_type": "code",
   "execution_count": 58,
   "metadata": {},
   "outputs": [],
   "source": [
    "m = Model('question1')"
   ]
  },
  {
   "cell_type": "code",
   "execution_count": 59,
   "metadata": {},
   "outputs": [],
   "source": [
    "x1 = m.addVar(name='x1')\n",
    "x2 = m.addVar(name='x2')"
   ]
  },
  {
   "cell_type": "code",
   "execution_count": 60,
   "metadata": {},
   "outputs": [],
   "source": [
    "m.setObjective(4*x1 + 2*x2, GRB.MAXIMIZE)"
   ]
  },
  {
   "cell_type": "code",
   "execution_count": 61,
   "metadata": {},
   "outputs": [],
   "source": [
    "c1 = m.addConstr(2*x1 + 4*x2 <= 20, name=\"c1\")\n",
    "c2 = m.addConstr(3*x1 + 5*x2 <= 15, name=\"c2\")"
   ]
  },
  {
   "cell_type": "code",
   "execution_count": 62,
   "metadata": {},
   "outputs": [],
   "source": [
    "m.write('question1.lp')"
   ]
  },
  {
   "cell_type": "code",
   "execution_count": 63,
   "metadata": {},
   "outputs": [
    {
     "name": "stdout",
     "output_type": "stream",
     "text": [
      "Gurobi Optimizer version 11.0.1 build v11.0.1rc0 (win64 - Windows 10.0 (19045.2))\n",
      "\n",
      "CPU model: AMD Ryzen 9 5900HS with Radeon Graphics, instruction set [SSE2|AVX|AVX2]\n",
      "Thread count: 8 physical cores, 16 logical processors, using up to 16 threads\n",
      "\n",
      "Optimize a model with 2 rows, 2 columns and 4 nonzeros\n",
      "Model fingerprint: 0xae31c652\n",
      "Coefficient statistics:\n",
      "  Matrix range     [2e+00, 5e+00]\n",
      "  Objective range  [2e+00, 4e+00]\n",
      "  Bounds range     [0e+00, 0e+00]\n",
      "  RHS range        [2e+01, 2e+01]\n",
      "Presolve time: 0.00s\n",
      "Presolved: 2 rows, 2 columns, 4 nonzeros\n",
      "\n",
      "Iteration    Objective       Primal Inf.    Dual Inf.      Time\n",
      "       0    1.0000000e+31   3.375000e+30   1.000000e+01      0s\n",
      "       2    2.0000000e+01   0.000000e+00   0.000000e+00      0s\n",
      "\n",
      "Solved in 2 iterations and 0.01 seconds (0.00 work units)\n",
      "Optimal objective  2.000000000e+01\n"
     ]
    }
   ],
   "source": [
    "m.optimize()"
   ]
  },
  {
   "cell_type": "code",
   "execution_count": 64,
   "metadata": {},
   "outputs": [
    {
     "name": "stdout",
     "output_type": "stream",
     "text": [
      "x1 5.0\n",
      "x2 0.0\n",
      "Obj: 20.0\n"
     ]
    }
   ],
   "source": [
    "for v in m.getVars():\n",
    "    print(v.varName, v.x)\n",
    "print('Obj: ' + str(m.objVal))"
   ]
  },
  {
   "cell_type": "markdown",
   "metadata": {},
   "source": [
    "## A. What range of values can the objective function coefficient variable X1 assume without changing the optimal solution? "
   ]
  },
  {
   "cell_type": "code",
   "execution_count": 65,
   "metadata": {},
   "outputs": [
    {
     "name": "stdout",
     "output_type": "stream",
     "text": [
      "Sensitivity Analysis (SA) \n",
      " ObjVal = 20.0\n",
      "\n",
      "    Variable            X           RC          Obj     SAObjLow      SAObjUp \n",
      "-----------------------------------------------------------------------------\n",
      "          x1            5            0            4          1.2          inf \n",
      "          x2            0     -4.66667            2         -inf      6.66667 \n",
      "\n",
      "  Constraint        Sense        Slack           Pi          RHS     SARHSLow      SARHSUp \n",
      "------------------------------------------------------------------------------------------\n",
      "          c1            <           10            0           20           10          inf \n",
      "          c2            <            0      1.33333           15            0           30 \n"
     ]
    }
   ],
   "source": [
    "print('Sensitivity Analysis (SA) \\n ObjVal =', m.ObjVal)\n",
    "m.printAttr(['X', 'RC', 'Obj', 'SAObjLow', 'SAObjUp'])\n",
    "m.printAttr(['Sense', 'Slack', 'Pi', 'RHS', 'SARHSLow', 'SARHSUp'])\n",
    "# Note: printAttr prints only rows with at least one NON-ZERO value, e.g. m.printAttr('X') prints only non-zero variable values."
   ]
  },
  {
   "cell_type": "markdown",
   "metadata": {},
   "source": [
    "The range of value of x1 is [1.2 , inf] assume without change the optimal solution"
   ]
  },
  {
   "cell_type": "markdown",
   "metadata": {},
   "source": [
    "## B. Is the optimal solution to this problem unique, or are there alternate optimal solutions? "
   ]
  },
  {
   "cell_type": "markdown",
   "metadata": {},
   "source": [
    " The variables x2 have non-zero reduced costs (RC column), which suggests that the current solution is not optimal. A reduced cost of zero indicates that the corresponding variable is at its optimal value in the current solution."
   ]
  },
  {
   "cell_type": "markdown",
   "metadata": {},
   "source": [
    "## C.  How much does the objective function coefficient for variable X2 have to increase before it enters the optimal solution at a strictly positive level?"
   ]
  },
  {
   "cell_type": "markdown",
   "metadata": {},
   "source": [
    "The reduced cost for x2 is -4.66667. This negative reduced cost indicates that the coefficient of x2 in the objective function must increase by at least 4.66667 to reach zero, at which point x2 will enter the solution at a strictly positive level."
   ]
  },
  {
   "cell_type": "markdown",
   "metadata": {},
   "source": [
    "## D.  What is the optimal objective function value if X2 equals 1?"
   ]
  },
  {
   "cell_type": "code",
   "execution_count": 66,
   "metadata": {},
   "outputs": [
    {
     "name": "stdout",
     "output_type": "stream",
     "text": [
      "Gurobi Optimizer version 11.0.1 build v11.0.1rc0 (win64 - Windows 10.0 (19045.2))\n",
      "\n",
      "CPU model: AMD Ryzen 9 5900HS with Radeon Graphics, instruction set [SSE2|AVX|AVX2]\n",
      "Thread count: 8 physical cores, 16 logical processors, using up to 16 threads\n",
      "\n",
      "Optimize a model with 2 rows, 2 columns and 2 nonzeros\n",
      "Model fingerprint: 0x0e1b7870\n",
      "Coefficient statistics:\n",
      "  Matrix range     [2e+00, 3e+00]\n",
      "  Objective range  [4e+00, 4e+00]\n",
      "  Bounds range     [0e+00, 0e+00]\n",
      "  RHS range        [1e+01, 2e+01]\n",
      "Presolve removed 2 rows and 2 columns\n",
      "Presolve time: 0.00s\n",
      "Presolve: All rows and columns removed\n",
      "Iteration    Objective       Primal Inf.    Dual Inf.      Time\n",
      "       0    1.5333333e+01   0.000000e+00   0.000000e+00      0s\n",
      "\n",
      "Solved in 0 iterations and 0.01 seconds (0.00 work units)\n",
      "Optimal objective  1.533333333e+01\n",
      "x1 3.3333333333333335\n",
      "x2 0.0\n",
      "Obj: 15.333333333333334\n"
     ]
    }
   ],
   "source": [
    "m = Model('question1')\n",
    "x1 = m.addVar(name='x1')\n",
    "x2 = m.addVar(name='x2')\n",
    "m.setObjective(4*x1 + 2*(1), GRB.MAXIMIZE)\n",
    "\n",
    "c1 = m.addConstr(2*x1 + 4*(1) <= 20, name=\"c1\")\n",
    "c2 = m.addConstr(3*x1 + 5*(1) <= 15, name=\"c2\")\n",
    "m.optimize()\n",
    "\n",
    "for v in m.getVars():\n",
    "    print(v.varName, v.x)\n",
    "print('Obj: ' + str(m.objVal))"
   ]
  },
  {
   "cell_type": "markdown",
   "metadata": {},
   "source": [
    "When I substitute the 1 into the x2, the optimal objective function value is 15.333333333333334 with x1 =  3.333"
   ]
  },
  {
   "cell_type": "markdown",
   "metadata": {},
   "source": [
    "## E. What is the optimal objective function value if the RHS value for the second constraint changes from 15 to 25? "
   ]
  },
  {
   "cell_type": "code",
   "execution_count": 67,
   "metadata": {},
   "outputs": [
    {
     "name": "stdout",
     "output_type": "stream",
     "text": [
      "Gurobi Optimizer version 11.0.1 build v11.0.1rc0 (win64 - Windows 10.0 (19045.2))\n",
      "\n",
      "CPU model: AMD Ryzen 9 5900HS with Radeon Graphics, instruction set [SSE2|AVX|AVX2]\n",
      "Thread count: 8 physical cores, 16 logical processors, using up to 16 threads\n",
      "\n",
      "Optimize a model with 2 rows, 2 columns and 4 nonzeros\n",
      "Model fingerprint: 0xf4f0ef4d\n",
      "Coefficient statistics:\n",
      "  Matrix range     [2e+00, 5e+00]\n",
      "  Objective range  [2e+00, 4e+00]\n",
      "  Bounds range     [0e+00, 0e+00]\n",
      "  RHS range        [2e+01, 3e+01]\n",
      "Presolve time: 0.00s\n",
      "Presolved: 2 rows, 2 columns, 4 nonzeros\n",
      "\n",
      "Iteration    Objective       Primal Inf.    Dual Inf.      Time\n",
      "       0    1.0000000e+31   3.375000e+30   1.000000e+01      0s\n",
      "       2    3.3333333e+01   0.000000e+00   0.000000e+00      0s\n",
      "\n",
      "Solved in 2 iterations and 0.01 seconds (0.00 work units)\n",
      "Optimal objective  3.333333333e+01\n",
      "x1 8.333333333333334\n",
      "x2 0.0\n",
      "Obj: 33.333333333333336\n"
     ]
    }
   ],
   "source": [
    "m = Model('question1')\n",
    "x1 = m.addVar(name='x1')\n",
    "x2 = m.addVar(name='x2')\n",
    "m.setObjective(4*x1 + 2*x2, GRB.MAXIMIZE)\n",
    "\n",
    "c1 = m.addConstr(2*x1 + 4*x2 <= 20, name=\"c1\")\n",
    "c2 = m.addConstr(3*x1 + 5*x2 <= 25, name=\"c2\")\n",
    "m.optimize()\n",
    "\n",
    "for v in m.getVars():\n",
    "    print(v.varName, v.x)\n",
    "print('Obj: ' + str(m.objVal))"
   ]
  },
  {
   "cell_type": "markdown",
   "metadata": {},
   "source": [
    "The optimal solution is equal to 33.3333 when RHS of second constraint equals to 25"
   ]
  },
  {
   "cell_type": "markdown",
   "metadata": {},
   "source": [
    "## F. Is the current solution still optimal if the coefficient for the X2 in the second constraint changes from 5 to 1? Explain."
   ]
  },
  {
   "cell_type": "code",
   "execution_count": 73,
   "metadata": {},
   "outputs": [
    {
     "name": "stdout",
     "output_type": "stream",
     "text": [
      "Gurobi Optimizer version 11.0.1 build v11.0.1rc0 (win64 - Windows 10.0 (19045.2))\n",
      "\n",
      "CPU model: AMD Ryzen 9 5900HS with Radeon Graphics, instruction set [SSE2|AVX|AVX2]\n",
      "Thread count: 8 physical cores, 16 logical processors, using up to 16 threads\n",
      "\n",
      "Optimize a model with 2 rows, 2 columns and 4 nonzeros\n",
      "Model fingerprint: 0x8aead384\n",
      "Coefficient statistics:\n",
      "  Matrix range     [1e+00, 4e+00]\n",
      "  Objective range  [2e+00, 4e+00]\n",
      "  Bounds range     [0e+00, 0e+00]\n",
      "  RHS range        [2e+01, 2e+01]\n",
      "Presolve time: 0.00s\n",
      "Presolved: 2 rows, 2 columns, 4 nonzeros\n",
      "\n",
      "Iteration    Objective       Primal Inf.    Dual Inf.      Time\n",
      "       0    6.0000000e+30   2.500000e+30   6.000000e+00      0s\n",
      "       2    2.2000000e+01   0.000000e+00   0.000000e+00      0s\n",
      "\n",
      "Solved in 2 iterations and 0.00 seconds (0.00 work units)\n",
      "Optimal objective  2.200000000e+01\n",
      "x1 4.0\n",
      "x2 3.0\n",
      "Obj: 22.0\n"
     ]
    }
   ],
   "source": [
    "m = Model('question1')\n",
    "x1 = m.addVar(name='x1')\n",
    "x2 = m.addVar(name='x2')\n",
    "m.setObjective(4*x1 + 2*x2, GRB.MAXIMIZE)\n",
    "\n",
    "c1 = m.addConstr(2*x1 + 4*x2 <= 20, name=\"c1\")\n",
    "c2 = m.addConstr(3*x1 + 1*x2 <= 15, name=\"c2\")\n",
    "m.optimize()\n",
    "\n",
    "for v in m.getVars():\n",
    "    print(v.varName, v.x)\n",
    "print('Obj: ' + str(m.objVal))"
   ]
  },
  {
   "cell_type": "code",
   "execution_count": 74,
   "metadata": {},
   "outputs": [
    {
     "name": "stdout",
     "output_type": "stream",
     "text": [
      "Sensitivity Analysis (SA) \n",
      " ObjVal = 22.0\n",
      "\n",
      "    Variable            X           RC          Obj     SAObjLow      SAObjUp \n",
      "-----------------------------------------------------------------------------\n",
      "          x1            4            0            4            1            6 \n",
      "          x2            3            0            2      1.33333            8 \n",
      "\n",
      "  Constraint        Sense        Slack           Pi          RHS     SARHSLow      SARHSUp \n",
      "------------------------------------------------------------------------------------------\n",
      "          c1            <            0          0.2           20           10           60 \n",
      "          c2            <            0          1.2           15            5           30 \n"
     ]
    }
   ],
   "source": [
    "print('Sensitivity Analysis (SA) \\n ObjVal =', m.ObjVal)\n",
    "m.printAttr(['X', 'RC', 'Obj', 'SAObjLow', 'SAObjUp'])\n",
    "m.printAttr(['Sense', 'Slack', 'Pi', 'RHS', 'SARHSLow', 'SARHSUp'])\n",
    "# Note: printAttr prints only rows with at least one NON-ZERO value, e.g. m.printAttr('X') prints only non-zero variable values."
   ]
  },
  {
   "cell_type": "markdown",
   "metadata": {},
   "source": [
    "The optimal of original which equal to 20 has being change to 22 by coefficient for the X2 in the second constraint changes from 5 to 1\n",
    "\n",
    "The shadow price associated with the second constraint (c2) is 1.333, which means that for every one-unit increase in the RHS of constraint c2, the optimal objective function value increases by 1.3333.\n",
    "\n",
    "Now, if the coefficient for x2 in constraint c2 changes from 5 to 1, it would impact the RHS of c2. The Shadow Price indicates that the optimal objective function value would increase by 1.2 for each unit increase in the RHS of c2.\n",
    "\n",
    "Since the Shadow Price (1.2) is greater than the reduced cost (RC) of x2 (0), it suggests that increasing the RHS of c2 (and thereby decreasing the coefficient for x2) could improve the objective function value. Therefore, the current solution may no longer be optimal if the coefficient for x2 in the second constraint changes from 5 to 1."
   ]
  },
  {
   "cell_type": "markdown",
   "metadata": {},
   "source": [
    "# Question 2"
   ]
  },
  {
   "cell_type": "code",
   "execution_count": 5,
   "metadata": {},
   "outputs": [],
   "source": [
    "import gurobipy as gp\n",
    "import pandas as pd"
   ]
  },
  {
   "cell_type": "code",
   "execution_count": 20,
   "metadata": {},
   "outputs": [],
   "source": [
    "cards, profit = gp.multidict({\n",
    "    'HyperLink' : 53,\n",
    "    'FastLink'  : 48,\n",
    "    'SpeedLink' : 33,\n",
    "    'MicroLink' : 32,\n",
    "    'EtherLink' : 38\n",
    "})\n",
    "\n",
    "devices, devices_lower_bound, devices_upper_bound = gp.multidict({\n",
    "    'Circuit'  :  [0, 80000],\n",
    "    'Resistors':  [0, 100000],\n",
    "    'Memory'   :  [0, 30000],\n",
    "    'Labor'    :  [0, 5000]\n",
    "})\n",
    "\n",
    "device_value = {\n",
    "    ('HyperLink', 'Circuit'): 20,\n",
    "    ('HyperLink', 'Resistors'): 28,\n",
    "    ('HyperLink', 'Memory'): 8,\n",
    "    ('HyperLink', 'Labor'): 0.75,\n",
    "    ('FastLink', 'Circuit'): 15,\n",
    "    ('FastLink', 'Resistors'): 24,\n",
    "    ('FastLink', 'Memory'): 8,\n",
    "    ('FastLink', 'Labor'): 0.6,\n",
    "    ('SpeedLink', 'Circuit'): 10,\n",
    "    ('SpeedLink', 'Resistors'): 18,\n",
    "    ('SpeedLink', 'Memory'): 4,\n",
    "    ('SpeedLink', 'Labor'): 0.5,\n",
    "    ('MicroLink', 'Circuit'): 8,\n",
    "    ('MicroLink', 'Resistors'): 12,\n",
    "    ('MicroLink', 'Memory'): 4,\n",
    "    ('MicroLink', 'Labor'): 0.65,\n",
    "    ('EtherLink', 'Circuit'): 5,\n",
    "    ('EtherLink', 'Resistors'): 16,\n",
    "    ('EtherLink', 'Memory'): 6,\n",
    "    ('EtherLink', 'Labor'): 1\n",
    "}"
   ]
  },
  {
   "cell_type": "code",
   "execution_count": 24,
   "metadata": {},
   "outputs": [
    {
     "name": "stdout",
     "output_type": "stream",
     "text": [
      "Gurobi Optimizer version 11.0.1 build v11.0.1rc0 (win64 - Windows 10.0 (19045.2))\n",
      "\n",
      "CPU model: AMD Ryzen 9 5900HS with Radeon Graphics, instruction set [SSE2|AVX|AVX2]\n",
      "Thread count: 8 physical cores, 16 logical processors, using up to 16 threads\n",
      "\n",
      "Optimize a model with 10 rows, 9 columns and 31 nonzeros\n",
      "Model fingerprint: 0xc30dd8ff\n",
      "Coefficient statistics:\n",
      "  Matrix range     [5e-01, 3e+01]\n",
      "  Objective range  [3e+01, 5e+01]\n",
      "  Bounds range     [5e+03, 1e+05]\n",
      "  RHS range        [5e+02, 1e+05]\n",
      "Presolve removed 5 rows and 4 columns\n",
      "Presolve time: 0.00s\n",
      "Presolved: 5 rows, 5 columns, 22 nonzeros\n",
      "\n",
      "Iteration    Objective       Primal Inf.    Dual Inf.      Time\n",
      "       0    4.5660000e+05   1.167975e+04   0.000000e+00      0s\n",
      "       3    2.1500000e+05   0.000000e+00   0.000000e+00      0s\n",
      "\n",
      "Solved in 3 iterations and 0.01 seconds (0.00 work units)\n",
      "Optimal objective  2.150000000e+05\n",
      "\n",
      "Profit: 215000\n",
      "\n",
      "number:\n",
      "HyperLink 500\n",
      "FastLink 1000\n",
      "SpeedLink 1500\n",
      "MicroLink 2250\n",
      "EtherLink 500\n"
     ]
    }
   ],
   "source": [
    "Link = Model('Interface cards')\n",
    "number = Link.addVars(cards, name=\"number\")\n",
    "Link.setObjective(number.prod(profit), GRB.MAXIMIZE)\n",
    "Link.addConstrs((gp.quicksum(device_value[c, d] * number[c] for c in cards)\\\n",
    "                 == [devices_lower_bound[d], devices_upper_bound[d]]\\\n",
    "                      for d in devices), \"_\")\n",
    "# Add the constraint that each variable must be greater than 500\n",
    "Link.addConstrs(number[c] >= 500 for c in cards)\n",
    "\n",
    "Link.addConstr(2 * number['HyperLink'] <= number['FastLink'])\n",
    "Link.write('InterfaceCards.lp')\n",
    "\n",
    "def printSolution():\n",
    "    if Link.status == GRB.OPTIMAL:\n",
    "        print('\\nProfit: %g' % Link.objVal)\n",
    "        print('\\nnumber:')\n",
    "        for c in cards:\n",
    "            if number[c].x > 0.0001:\n",
    "                print('%s %g' % (c, number[c].x))\n",
    "    else:\n",
    "        print('No solution')\n",
    "\n",
    "# Solve\n",
    "Link.optimize()\n",
    "printSolution()"
   ]
  },
  {
   "cell_type": "code",
   "execution_count": 25,
   "metadata": {},
   "outputs": [
    {
     "data": {
      "text/plain": [
       "215000.0"
      ]
     },
     "execution_count": 25,
     "metadata": {},
     "output_type": "execute_result"
    }
   ],
   "source": [
    "Link.ObjVal"
   ]
  },
  {
   "cell_type": "markdown",
   "metadata": {},
   "source": [
    "## A. Use Gurobi API to create a Sensitivity Report"
   ]
  },
  {
   "cell_type": "code",
   "execution_count": 26,
   "metadata": {},
   "outputs": [
    {
     "name": "stdout",
     "output_type": "stream",
     "text": [
      "Sensitivity Analysis (SA) \n",
      " ObjVal = 215000.0\n",
      "\n",
      "    Variable            X           RC          Obj     SAObjLow      SAObjUp \n",
      "-----------------------------------------------------------------------------\n",
      "number[HyperLink]          500            0           53         -inf      96.6667 \n",
      "number[FastLink]         1000            0           48         -inf           64 \n",
      "number[SpeedLink]         1500            0           33           32           48 \n",
      "number[MicroLink]         2250            0           32      26.7273           33 \n",
      "number[EtherLink]          500            0           38         -inf      47.6667 \n",
      "   RgCircuit        19500            0            0        -65.5          0.5 \n",
      " RgResistors            0    -0.166667            0         -inf     0.166667 \n",
      "    RgMemory            0         -7.5            0         -inf          7.5 \n",
      "     RgLabor       1312.5            0            0     -6.66667      22.8571 \n",
      "\n",
      "  Constraint        Sense        Slack           Pi          RHS     SARHSLow      SARHSUp \n",
      "------------------------------------------------------------------------------------------\n",
      "     Circuit            =            0            0        80000        60500       140500 \n",
      "   Resistors            =            0     0.166667       100000        94000       110500 \n",
      "      Memory            =            0          7.5        30000      27666.7        32000 \n",
      "       Labor            =            0            0         5000       3687.5       8687.5 \n",
      "          R4            >            0     -43.6667          500          250      828.125 \n",
      "          R5            >         -500            0          500         -inf         1000 \n",
      "          R6            >        -1000            0          500         -inf         1500 \n",
      "          R7            >        -1750            0          500         -inf         2250 \n",
      "          R8            >            0     -9.66667          500           -0      1454.55 \n",
      "          R9            <            0           16            0         -875          500 \n"
     ]
    }
   ],
   "source": [
    "print('Sensitivity Analysis (SA) \\n ObjVal =', Link.ObjVal)\n",
    "Link.printAttr(['X', 'RC', 'Obj', 'SAObjLow', 'SAObjUp'])\n",
    "Link.printAttr(['Sense', 'Slack', 'Pi', 'RHS', 'SARHSLow', 'SARHSUp'])"
   ]
  },
  {
   "cell_type": "markdown",
   "metadata": {},
   "source": [
    "## B. Which of the constraints in the problem are binding?"
   ]
  },
  {
   "cell_type": "markdown",
   "metadata": {},
   "source": [
    "The constraint with name: Resistors, Memory, R4, R8, R9"
   ]
  },
  {
   "cell_type": "markdown",
   "metadata": {},
   "source": [
    "## C.  If the company was going to eliminate one of its products, which one should it be?"
   ]
  },
  {
   "cell_type": "markdown",
   "metadata": {},
   "source": [
    "Microlink "
   ]
  },
  {
   "cell_type": "markdown",
   "metadata": {},
   "source": [
    "## D.  If the company could by 1,000 additional memory chips at the usual cost, should they, do it? If so, how much would profits increase? "
   ]
  },
  {
   "cell_type": "markdown",
   "metadata": {},
   "source": [
    "Yes, they should do it because the profit increase $7500 from 215000 to 222500"
   ]
  },
  {
   "cell_type": "markdown",
   "metadata": {},
   "source": [
    "## E. Suppose the manufacturing costs used in this analysis were estimated hastily and are known to be somewhat imprecise. Which products would you be most concerned about having more precise cost estimates for before implementing this solution?"
   ]
  },
  {
   "cell_type": "markdown",
   "metadata": {},
   "source": [
    " hyperlink, fastlink, etherlink"
   ]
  },
  {
   "cell_type": "markdown",
   "metadata": {},
   "source": [
    "# Question 3"
   ]
  },
  {
   "cell_type": "code",
   "execution_count": 31,
   "metadata": {},
   "outputs": [],
   "source": [
    "supply_locs, supply = gp.multidict({\n",
    "    'Location 1': 16,\n",
    "    'Location 2': 18\n",
    "    })\n",
    "\n",
    "demand_locs, demand_lower, demand_upper = gp.multidict({\n",
    "    'Location 3': [5,10],\n",
    "    'Location 4': [5,10],\n",
    "    'Location 5': [5,10],\n",
    "    'Location 6': [5,10]\n",
    "    })\n",
    "\n",
    "arcs, cost = gp.multidict({\n",
    "    ('Location 1', 'Location 3'): 54,\n",
    "    ('Location 1', 'Location 4'): 17,\n",
    "    ('Location 1', 'Location 5'): 23,\n",
    "    ('Location 1', 'Location 6'): 30,\n",
    "    ('Location 2', 'Location 3'): 24,\n",
    "    ('Location 2', 'Location 4'): 18,\n",
    "    ('Location 2', 'Location 5'): 19,\n",
    "    ('Location 2', 'Location 6'): 31,\n",
    "})"
   ]
  },
  {
   "cell_type": "code",
   "execution_count": 32,
   "metadata": {},
   "outputs": [
    {
     "name": "stdout",
     "output_type": "stream",
     "text": [
      "Gurobi Optimizer version 11.0.1 build v11.0.1rc0 (win64 - Windows 10.0 (19045.2))\n",
      "\n",
      "CPU model: AMD Ryzen 9 5900HS with Radeon Graphics, instruction set [SSE2|AVX|AVX2]\n",
      "Thread count: 8 physical cores, 16 logical processors, using up to 16 threads\n",
      "\n",
      "Optimize a model with 6 rows, 12 columns and 20 nonzeros\n",
      "Model fingerprint: 0x9bdc6bc1\n",
      "Coefficient statistics:\n",
      "  Matrix range     [1e+00, 1e+00]\n",
      "  Objective range  [2e+01, 5e+01]\n",
      "  Bounds range     [5e+00, 5e+00]\n",
      "  RHS range        [1e+01, 2e+01]\n",
      "Presolve time: 0.00s\n",
      "Presolved: 6 rows, 12 columns, 20 nonzeros\n",
      "\n",
      "Iteration    Objective       Primal Inf.    Dual Inf.      Time\n",
      "       0    0.0000000e+00   4.400000e+01   0.000000e+00      0s\n",
      "       7    7.3000000e+02   0.000000e+00   0.000000e+00      0s\n",
      "\n",
      "Solved in 7 iterations and 0.00 seconds (0.00 work units)\n",
      "Optimal objective  7.300000000e+02\n"
     ]
    }
   ],
   "source": [
    "car = gp.Model('Transshipment')\n",
    "flow = car.addVars(arcs, obj=cost, name=\"flow\")\n",
    "\n",
    "demand_flow = car.addConstrs((gp.quicksum(flow.select(\"*\", d_loc)) \\\n",
    "                             == [demand_lower[d_loc], demand_upper[d_loc]]\\\n",
    "                                for d_loc in demand_locs), \"_\") \n",
    "\n",
    "supply_flow = car.addConstrs((gp.quicksum(flow.select(s_loc, '*')) \\\n",
    "                               == supply[s_loc]\\\n",
    "                                for s_loc in supply_locs), \"_\") \n",
    "\n",
    "car.optimize()"
   ]
  },
  {
   "cell_type": "markdown",
   "metadata": {},
   "source": [
    "## A. Use Gurobi API to create a Sensitivity Report"
   ]
  },
  {
   "cell_type": "code",
   "execution_count": 33,
   "metadata": {},
   "outputs": [
    {
     "name": "stdout",
     "output_type": "stream",
     "text": [
      "Sensitivity Analysis (SA) \n",
      " ObjVal = 730.0\n",
      "\n",
      "    Variable            X           RC          Obj     SAObjLow      SAObjUp \n",
      "-----------------------------------------------------------------------------\n",
      "flow[Location 1,Location 3]            0           26           54           28          inf \n",
      "flow[Location 1,Location 4]           10            0           17         -inf           22 \n",
      "flow[Location 1,Location 5]            1            0           23           18           25 \n",
      "flow[Location 1,Location 6]            5            0           30           28           35 \n",
      "flow[Location 2,Location 3]            9            0           24           19           26 \n",
      "flow[Location 2,Location 4]            0            5           18           13          inf \n",
      "flow[Location 2,Location 5]            9            0           19           17           24 \n",
      "flow[Location 2,Location 6]            0            5           31           26          inf \n",
      "RgLocation 3            1            0            0           -2            5 \n",
      "RgLocation 4            0           11            0          -11          inf \n",
      "RgLocation 5            0            5            0           -5          inf \n",
      "RgLocation 6            5           -2            0         -inf            2 \n",
      "\n",
      "  Constraint        Sense        Slack           Pi          RHS     SARHSLow      SARHSUp \n",
      "------------------------------------------------------------------------------------------\n",
      "  Location 3            =            0           -0           10            9           14 \n",
      "  Location 4            =            0          -11           10            9           11 \n",
      "  Location 5            =            0           -5           10            9           14 \n",
      "  Location 6            =            0            2           10            9           11 \n",
      "  Location 1            =            0           28           16           15           17 \n",
      "  Location 2            =            0           24           18           14           19 \n"
     ]
    }
   ],
   "source": [
    "print('Sensitivity Analysis (SA) \\n ObjVal =', car.ObjVal)\n",
    "car.printAttr(['X', 'RC', 'Obj', 'SAObjLow', 'SAObjUp'])\n",
    "car.printAttr(['Sense', 'Slack', 'Pi', 'RHS', 'SARHSLow', 'SARHSUp'])\n",
    "# Note: printAttr prints only rows with at least one NON-ZERO value, e.g. m.printAttr('X') prints only non-zero variable values."
   ]
  },
  {
   "cell_type": "code",
   "execution_count": null,
   "metadata": {},
   "outputs": [],
   "source": [
    "# D\n",
    "# Add constraint sending 1 car from L1 to L3\n",
    "#car.addConstr(flow['Location 1', 'Location 3'] == 1\")"
   ]
  },
  {
   "cell_type": "code",
   "execution_count": null,
   "metadata": {},
   "outputs": [],
   "source": [
    "# E\n",
    "# Add constraint for location 6 demand\n",
    "car.addConstr(flow.sum('*', 'Location 6') >= 8, name=\"demand_L6\")"
   ]
  },
  {
   "cell_type": "markdown",
   "metadata": {},
   "source": [
    "B. Not unique because RC are not all 0"
   ]
  },
  {
   "cell_type": "markdown",
   "metadata": {},
   "source": [
    "C. Location 6 because it receives 5 cars from L1 and 0 car from l2 which is 5 cars in total "
   ]
  },
  {
   "cell_type": "markdown",
   "metadata": {},
   "source": [
    "D. Cost increases from 730 to 756 => 26"
   ]
  },
  {
   "cell_type": "markdown",
   "metadata": {},
   "source": [
    "E. Cost increases from 730 to 746 => 16"
   ]
  },
  {
   "cell_type": "code",
   "execution_count": null,
   "metadata": {},
   "outputs": [],
   "source": []
  }
 ],
 "metadata": {
  "kernelspec": {
   "display_name": "base",
   "language": "python",
   "name": "python3"
  },
  "language_info": {
   "codemirror_mode": {
    "name": "ipython",
    "version": 3
   },
   "file_extension": ".py",
   "mimetype": "text/x-python",
   "name": "python",
   "nbconvert_exporter": "python",
   "pygments_lexer": "ipython3",
   "version": "3.11.5"
  }
 },
 "nbformat": 4,
 "nbformat_minor": 2
}
