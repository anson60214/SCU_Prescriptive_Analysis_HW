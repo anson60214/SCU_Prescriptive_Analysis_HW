{
 "cells": [
  {
   "cell_type": "markdown",
   "metadata": {},
   "source": [
    "# Question 1"
   ]
  },
  {
   "cell_type": "code",
   "execution_count": 59,
   "metadata": {},
   "outputs": [],
   "source": [
    "import gurobipy as gp\n",
    "from gurobipy import GRB"
   ]
  },
  {
   "cell_type": "code",
   "execution_count": 60,
   "metadata": {},
   "outputs": [],
   "source": [
    "machineProduct, cost, time, setup = gp.multidict(\n",
    "{\n",
    "    (1, 1): [13, 0.4, 55],\n",
    "    (1, 2): [9, 1.1, 93],\n",
    "    (1, 3): [10, 0.9, 60],\n",
    "    (2, 1): [11, 0.5, 65],\n",
    "    (2, 2): [12, 1.2, 58],\n",
    "    (2, 3): [8, 1.3, 75]\n",
    "})\n",
    "\n",
    "\n",
    "demand = {\n",
    "    1: 3,  \n",
    "    2: 7,  \n",
    "    3: 4   \n",
    "}\n",
    "\n",
    "machTime = {\n",
    "    1: 8,\n",
    "    2: 6\n",
    "}"
   ]
  },
  {
   "cell_type": "code",
   "execution_count": 61,
   "metadata": {},
   "outputs": [
    {
     "name": "stdout",
     "output_type": "stream",
     "text": [
      "Warning: linear constraint 0 and linear constraint 1 have the same name \"demand\"\n",
      "Gurobi Optimizer version 11.0.1 build v11.0.1rc0 (win64 - Windows 10.0 (19045.2))\n",
      "\n",
      "CPU model: AMD Ryzen 9 5900HS with Radeon Graphics, instruction set [SSE2|AVX|AVX2]\n",
      "Thread count: 8 physical cores, 16 logical processors, using up to 16 threads\n",
      "\n",
      "Optimize a model with 11 rows, 12 columns and 24 nonzeros\n",
      "Model fingerprint: 0x526d63f2\n",
      "Variable types: 0 continuous, 12 integer (6 binary)\n",
      "Coefficient statistics:\n",
      "  Matrix range     [4e-01, 7e+00]\n",
      "  Objective range  [8e+00, 9e+01]\n",
      "  Bounds range     [1e+00, 1e+00]\n",
      "  RHS range        [3e+00, 8e+00]\n",
      "Found heuristic solution: objective 546.0000000\n",
      "Presolve removed 6 rows and 6 columns\n",
      "Presolve time: 0.00s\n",
      "Presolved: 5 rows, 6 columns, 12 nonzeros\n",
      "Variable types: 0 continuous, 6 integer (3 binary)\n",
      "\n",
      "Root relaxation: objective 4.206000e+02, 4 iterations, 0.00 seconds (0.00 work units)\n",
      "\n",
      "    Nodes    |    Current Node    |     Objective Bounds      |     Work\n",
      " Expl Unexpl |  Obj  Depth IntInf | Incumbent    BestBd   Gap | It/Node Time\n",
      "\n",
      "     0     0  420.60000    0    1  546.00000  420.60000  23.0%     -    0s\n",
      "H    0     0                     423.0000000  420.60000  0.57%     -    0s\n",
      "H    0     0                     421.0000000  420.60000  0.10%     -    0s\n",
      "     0     0  420.60000    0    1  421.00000  420.60000  0.10%     -    0s\n",
      "\n",
      "Explored 1 nodes (4 simplex iterations) in 0.01 seconds (0.00 work units)\n",
      "Thread count was 16 (of 16 available processors)\n",
      "\n",
      "Solution count 3: 421 423 546 \n",
      "\n",
      "Optimal solution found (tolerance 1.00e-04)\n",
      "Best objective 4.210000000000e+02, best bound 4.210000000000e+02, gap 0.0000%\n"
     ]
    }
   ],
   "source": [
    "mprodMachine = gp.Model('prodMachine')\n",
    "\n",
    "numberProd = mprodMachine.addVars(machineProduct, vtype='I', name='numberProd') \n",
    "assign = mprodMachine.addVars(machineProduct, vtype='B', name='assign') \n",
    "\n",
    "# Objective function\n",
    "TotCost = gp.quicksum(cost[i,j]*numberProd[i,j] + setup[i,j]*assign[i,j] for i,j in machineProduct)\n",
    "\n",
    "mprodMachine.setObjective(TotCost, GRB.MINIMIZE)\n",
    "\n",
    "# Constraint\n",
    "for j in range(1, 4):\n",
    "    mprodMachine.addConstr(\n",
    "        sum(numberProd[i, j] for i,j in machineProduct.select('*', j)) == demand[j],\n",
    "        name=\"demand\"\n",
    "        )\n",
    "\n",
    "for i in range(1, 3):\n",
    "    mprodMachine.addConstr(\n",
    "        sum(time[i,j] * numberProd[i, j] for i,j in machineProduct.select(i, '*')) \\\n",
    "            <= machTime[i],\n",
    "        name=\"time\"\n",
    "        )\n",
    "\n",
    "for i in range(1, 3):\n",
    "    for j in range(1,4):\n",
    "        mprodMachine.addConstr(\n",
    "            numberProd[i, j] <= demand[j] * assign[i, j],\n",
    "            name=\"Link\"\n",
    "            )\n",
    "        \n",
    "# Verify model formulation\n",
    "mprodMachine.write('prodMachine.lp')\n",
    "\n",
    "mprodMachine.optimize()"
   ]
  },
  {
   "cell_type": "markdown",
   "metadata": {},
   "source": [
    "We want to print the variables with a value of greater than 0 because this is the tuple that gurobi's optimization says we should take"
   ]
  },
  {
   "cell_type": "code",
   "execution_count": 62,
   "metadata": {
    "scrolled": true
   },
   "outputs": [
    {
     "name": "stdout",
     "output_type": "stream",
     "text": [
      "numberProd[1,2] 4.0\n",
      "numberProd[1,3] 4.0\n",
      "numberProd[2,1] 3.0\n",
      "numberProd[2,2] 3.0\n",
      "assign[1,2] 1.0\n",
      "assign[1,3] 1.0\n",
      "assign[2,1] 1.0\n",
      "assign[2,2] 1.0\n",
      "Total cost: 421.0\n"
     ]
    }
   ],
   "source": [
    "for x in mprodMachine.getVars():\n",
    "    if (x.x != 0):\n",
    "        print(x.varName, x.x)\n",
    "print('Total cost: ' + str(mprodMachine.objVal))"
   ]
  },
  {
   "cell_type": "markdown",
   "metadata": {},
   "source": [
    "# Question 2"
   ]
  },
  {
   "cell_type": "code",
   "execution_count": 63,
   "metadata": {},
   "outputs": [],
   "source": [
    "supplyResource, production = gp.multidict(\n",
    "{\n",
    "    (1, 1): 2.00,\n",
    "    (1, 2): 2.80,\n",
    "    (1, 3): 1.70,\n",
    "    (1, 4): 2.40,\n",
    "    (2, 1): 1.80,\n",
    "    (2, 2): 2.30,\n",
    "    (2, 3): 1.75,\n",
    "    (2, 4): 1.90,\n",
    "    (3, 1): 2.30,\n",
    "    (3, 2): 2.20,\n",
    "    (3, 3): 1.60,\n",
    "    (3, 4): 2.60,\n",
    "    (4, 1): 2.10,\n",
    "    (4, 2): 2.60,\n",
    "    (4, 3): 1.90,\n",
    "    (4, 4): 2.40,\n",
    "})\n",
    "\n",
    "\n",
    "supply, cost, truck, avail = gp.multidict(\n",
    "{\n",
    "    1: [22, 1500, 1500],\n",
    "    2: [21, 1700, 2000],\n",
    "    3: [22, 1500, 1500],\n",
    "    4: [23, 1400, 1800]\n",
    "})\n",
    "\n",
    "demand = {\n",
    "    1: 750,\n",
    "    2: 800,\n",
    "    3: 1000,\n",
    "    4: 300\n",
    "}"
   ]
  },
  {
   "cell_type": "code",
   "execution_count": 64,
   "metadata": {},
   "outputs": [
    {
     "name": "stdout",
     "output_type": "stream",
     "text": [
      "Warning: linear constraint 0 and linear constraint 1 have the same name \"Demand\"\n",
      "Gurobi Optimizer version 11.0.1 build v11.0.1rc0 (win64 - Windows 10.0 (19045.2))\n",
      "\n",
      "CPU model: AMD Ryzen 9 5900HS with Radeon Graphics, instruction set [SSE2|AVX|AVX2]\n",
      "Thread count: 8 physical cores, 16 logical processors, using up to 16 threads\n",
      "\n",
      "Optimize a model with 12 rows, 20 columns and 56 nonzeros\n",
      "Model fingerprint: 0x4567b16b\n",
      "Variable types: 0 continuous, 20 integer (4 binary)\n",
      "Coefficient statistics:\n",
      "  Matrix range     [1e+00, 2e+03]\n",
      "  Objective range  [2e+01, 2e+03]\n",
      "  Bounds range     [1e+00, 1e+00]\n",
      "  RHS range        [3e+02, 1e+03]\n",
      "Found heuristic solution: objective 35758.000000\n",
      "Presolve time: 0.00s\n",
      "Presolved: 12 rows, 20 columns, 56 nonzeros\n",
      "Variable types: 0 continuous, 20 integer (4 binary)\n",
      "\n",
      "Root relaxation: objective 2.921099e+04, 8 iterations, 0.00 seconds (0.00 work units)\n",
      "\n",
      "    Nodes    |    Current Node    |     Objective Bounds      |     Work\n",
      " Expl Unexpl |  Obj  Depth IntInf | Incumbent    BestBd   Gap | It/Node Time\n",
      "\n",
      "     0     0 29210.9890    0    7 35758.0000 29210.9890  18.3%     -    0s\n",
      "H    0     0                    33155.000000 29210.9890  11.9%     -    0s\n",
      "H    0     0                    31977.000000 29210.9890  8.65%     -    0s\n",
      "     0     0 31165.9774    0   11 31977.0000 31165.9774  2.54%     -    0s\n",
      "H    0     0                    31750.000000 31455.5837  0.93%     -    0s\n",
      "H    0     0                    31714.000000 31455.5837  0.81%     -    0s\n",
      "     0     0 31714.0000    0    9 31714.0000 31714.0000  0.00%     -    0s\n",
      "\n",
      "Cutting planes:\n",
      "  Implied bound: 2\n",
      "  MIR: 3\n",
      "  Flow cover: 3\n",
      "\n",
      "Explored 1 nodes (20 simplex iterations) in 0.02 seconds (0.00 work units)\n",
      "Thread count was 16 (of 16 available processors)\n",
      "\n",
      "Solution count 5: 31714 31750 31977 ... 35758\n",
      "\n",
      "Optimal solution found (tolerance 1.00e-04)\n",
      "Best objective 3.171400000000e+04, best bound 3.171400000000e+04, gap 0.0000%\n"
     ]
    }
   ],
   "source": [
    "mgas = gp.Model('gas')\n",
    "\n",
    "numberProd = mgas.addVars(supplyResource, vtype='I', name='numberProd') \n",
    "assign = mgas.addVars(demand, vtype='B', name='assign') \n",
    "\n",
    "# Objective function\n",
    "TotCost = gp.quicksum(cost[i]*numberProd[i,j] for i,j in supplyResource)+\\\n",
    "      gp.quicksum(truck[i]*assign[i] for i in supply)\n",
    "\n",
    "mgas.setObjective(TotCost, GRB.MINIMIZE)\n",
    "\n",
    "# Constraint\n",
    "for j in range(1, 5):\n",
    "    mgas.addConstr(\n",
    "        sum(production[i, j] * numberProd[i, j] for i,j in supplyResource.select('*', j))\\\n",
    "              >= demand[j],\n",
    "        name=\"Demand\"\n",
    "        )\n",
    "\n",
    "for i in range(1, 5):\n",
    "    mgas.addConstr(\n",
    "        sum(numberProd[i, j] for i,j in supplyResource.select(i, '*'))\\\n",
    "            <= avail[i] * assign[i],\n",
    "        name=\"Availiability\"\n",
    "        )\n",
    "\n",
    "for i in range(1, 5):\n",
    "    mgas.addConstr(\n",
    "        sum(numberProd[i, j] for i,j in supplyResource.select(i, '*'))\\\n",
    "            >= 500 * assign[i],\n",
    "        name=\"supply\"\n",
    "        )\n",
    "        \n",
    "# Verify model formulation\n",
    "mgas.write('gas.lp')\n",
    "\n",
    "mgas.optimize()"
   ]
  },
  {
   "cell_type": "code",
   "execution_count": 65,
   "metadata": {},
   "outputs": [
    {
     "name": "stdout",
     "output_type": "stream",
     "text": [
      "numberProd[4,1] 358.0\n",
      "numberProd[4,2] 308.0\n",
      "numberProd[4,3] 527.0\n",
      "numberProd[4,4] 125.0\n",
      "assign[4] 1.0\n",
      "Total cost: 31714.0\n"
     ]
    }
   ],
   "source": [
    "for x in mgas.getVars():\n",
    "    if (x.x != 0):\n",
    "        print(x.varName, x.x)\n",
    "print('Total cost: ' + str(mgas.objVal))"
   ]
  },
  {
   "cell_type": "code",
   "execution_count": 66,
   "metadata": {},
   "outputs": [
    {
     "data": {
      "text/plain": [
       "1318.0"
      ]
     },
     "execution_count": 66,
     "metadata": {},
     "output_type": "execute_result"
    }
   ],
   "source": [
    "358.0+308.0+527.0+125.0"
   ]
  },
  {
   "cell_type": "markdown",
   "metadata": {},
   "source": [
    "Since only need location 4, which is AL, we sum up and get 1318 barrels"
   ]
  },
  {
   "cell_type": "markdown",
   "metadata": {},
   "source": [
    "# Question 3"
   ]
  },
  {
   "cell_type": "code",
   "execution_count": 125,
   "metadata": {},
   "outputs": [],
   "source": [
    "week, demand = gp.multidict(\n",
    "{\n",
    "    1: 400,\n",
    "    2: 150,\n",
    "    3: 200,\n",
    "    4: 350\n",
    "})"
   ]
  },
  {
   "cell_type": "code",
   "execution_count": 128,
   "metadata": {},
   "outputs": [
    {
     "name": "stdout",
     "output_type": "stream",
     "text": [
      "Warning: linear constraint 0 and linear constraint 1 have the same name \"Begin\"\n",
      "Gurobi Optimizer version 11.0.1 build v11.0.1rc0 (win64 - Windows 10.0 (19045.2))\n",
      "\n",
      "CPU model: AMD Ryzen 9 5900HS with Radeon Graphics, instruction set [SSE2|AVX|AVX2]\n",
      "Thread count: 8 physical cores, 16 logical processors, using up to 16 threads\n",
      "\n",
      "Optimize a model with 12 rows, 16 columns and 27 nonzeros\n",
      "Model fingerprint: 0x5916448b\n",
      "Variable types: 0 continuous, 16 integer (4 binary)\n",
      "Coefficient statistics:\n",
      "  Matrix range     [1e+00, 1e+03]\n",
      "  Objective range  [1e-01, 1e+02]\n",
      "  Bounds range     [1e+00, 1e+00]\n",
      "  RHS range        [2e+02, 4e+02]\n",
      "Found heuristic solution: objective 1730.0000000\n",
      "Presolve removed 7 rows and 8 columns\n",
      "Presolve time: 0.00s\n",
      "Presolved: 5 rows, 8 columns, 12 nonzeros\n",
      "Found heuristic solution: objective 1590.0000000\n",
      "Variable types: 0 continuous, 8 integer (3 binary)\n",
      "\n",
      "Root relaxation: objective 1.510100e+03, 6 iterations, 0.00 seconds (0.00 work units)\n",
      "\n",
      "    Nodes    |    Current Node    |     Objective Bounds      |     Work\n",
      " Expl Unexpl |  Obj  Depth IntInf | Incumbent    BestBd   Gap | It/Node Time\n",
      "\n",
      "     0     0 1510.10000    0    2 1590.00000 1510.10000  5.03%     -    0s\n",
      "H    0     0                    1570.0000000 1510.10000  3.82%     -    0s\n",
      "H    0     0                    1565.0000000 1510.10000  3.51%     -    0s\n",
      "\n",
      "Cutting planes:\n",
      "  Gomory: 1\n",
      "  Implied bound: 3\n",
      "\n",
      "Explored 1 nodes (6 simplex iterations) in 0.01 seconds (0.00 work units)\n",
      "Thread count was 16 (of 16 available processors)\n",
      "\n",
      "Solution count 4: 1565 1570 1590 1730 \n",
      "\n",
      "Optimal solution found (tolerance 1.00e-04)\n",
      "Best objective 1.565000000000e+03, best bound 1.565000000000e+03, gap 0.0000%\n"
     ]
    }
   ],
   "source": [
    "mMega_Bucks = gp.Model('Mega-Bucks')\n",
    "\n",
    "beginInv = mMega_Bucks.addVars(week, vtype='I', name='BeginInventory') \n",
    "endInv = mMega_Bucks.addVars(week, vtype='I', name='EndInventory') \n",
    "numInv = mMega_Bucks.addVars(week, vtype='I', name='numberOrder') \n",
    "assign = mMega_Bucks.addVars(week, vtype='B', name='assign') \n",
    "\n",
    "# Objective function\n",
    "TotCost = gp.quicksum(125*numInv[i]for i in week)+\\\n",
    "    gp.quicksum(50*assign[i] for i in week)+\\\n",
    "    gp.quicksum(15*endInv[i] for i in week)/100\n",
    "\n",
    "mMega_Bucks.setObjective(TotCost, GRB.MINIMIZE)\n",
    "\n",
    "# Constraint\n",
    "for i in range(2, 5):\n",
    "    mMega_Bucks.addConstr(\n",
    "        beginInv[i] == endInv[i-1],\n",
    "        name=\"Begin\"\n",
    "        )\n",
    "        \n",
    "for i in range(1, 5):\n",
    "    mMega_Bucks.addConstr(\n",
    "        endInv[i] == beginInv[i] + 100*numInv[i]-demand[i],\n",
    "        name=\"End\"\n",
    "        )\n",
    "\n",
    "M = 1000  \n",
    "for i in range(1, 5):\n",
    "    mMega_Bucks.addConstr(\n",
    "        numInv[i] <= M*assign[i],\n",
    "        name=\"Batch\"\n",
    "        )\n",
    "\n",
    "mMega_Bucks.addConstr(beginInv[1]==0)     \n",
    "\n",
    "# Verify model formulation\n",
    "mMega_Bucks.write('Mega_Bucks.lp')\n",
    "\n",
    "mMega_Bucks.optimize()"
   ]
  },
  {
   "cell_type": "code",
   "execution_count": 129,
   "metadata": {},
   "outputs": [
    {
     "name": "stdout",
     "output_type": "stream",
     "text": [
      "BeginInventory[2] 200.0\n",
      "BeginInventory[3] 50.0\n",
      "BeginInventory[4] 350.0\n",
      "EndInventory[1] 200.0\n",
      "EndInventory[2] 50.0\n",
      "EndInventory[3] 350.0\n",
      "numberOrder[1] 6.0\n",
      "numberOrder[3] 5.0\n",
      "assign[1] 1.0\n",
      "assign[3] 1.0\n",
      "Total cost: 1565.0\n"
     ]
    }
   ],
   "source": [
    "for x in mMega_Bucks.getVars():\n",
    "    if (x.x != 0):\n",
    "        print(x.varName, x.x)\n",
    "print('Total cost: ' + str(mMega_Bucks.objVal))"
   ]
  },
  {
   "cell_type": "markdown",
   "metadata": {},
   "source": [
    "we need to order 600 pound in week 1 and 600 pound in week3"
   ]
  },
  {
   "cell_type": "code",
   "execution_count": null,
   "metadata": {},
   "outputs": [],
   "source": []
  }
 ],
 "metadata": {
  "kernelspec": {
   "display_name": "Python 3 (ipykernel)",
   "language": "python",
   "name": "python3"
  },
  "language_info": {
   "codemirror_mode": {
    "name": "ipython",
    "version": 3
   },
   "file_extension": ".py",
   "mimetype": "text/x-python",
   "name": "python",
   "nbconvert_exporter": "python",
   "pygments_lexer": "ipython3",
   "version": "3.11.5"
  }
 },
 "nbformat": 4,
 "nbformat_minor": 2
}
